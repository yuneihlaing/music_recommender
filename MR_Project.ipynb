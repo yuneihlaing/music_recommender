{
 "cells": [
  {
   "cell_type": "markdown",
   "metadata": {
    "id": "cuBKO6B4hJ-E"
   },
   "source": [
    "# Importing the libaries"
   ]
  },
  {
   "cell_type": "code",
   "execution_count": 1,
   "metadata": {
    "id": "HRWvJFl9g898"
   },
   "outputs": [],
   "source": [
    "import pandas as pd\n",
    "from sklearn.preprocessing import StandardScaler\n",
    "from sklearn.cluster import KMeans\n",
    "import numpy as np\n",
    "import matplotlib.pyplot as plt\n",
    "from sklearn.decomposition import PCA\n",
    "from sklearn.neighbors import NearestNeighbors\n",
    "from sentence_transformers import SentenceTransformer\n",
    "from sklearn.metrics.pairwise import cosine_similarity\n",
    "from sklearn.cluster import DBSCAN\n",
    "from sklearn.metrics import silhouette_score\n",
    "from sklearn.linear_model import LogisticRegression\n",
    "from sklearn.model_selection import train_test_split\n",
    "from sklearn.metrics import accuracy_score\n",
    "import xgboost as xgb"
   ]
  },
  {
   "cell_type": "code",
   "execution_count": 2,
   "metadata": {
    "colab": {
     "base_uri": "https://localhost:8080/",
     "height": 330
    },
    "id": "bPlMMeUShpVt",
    "outputId": "b9fa97dd-f9c5-4f01-898c-52c8fc41fd8f"
   },
   "outputs": [
    {
     "data": {
      "text/html": [
       "<div>\n",
       "<style scoped>\n",
       "    .dataframe tbody tr th:only-of-type {\n",
       "        vertical-align: middle;\n",
       "    }\n",
       "\n",
       "    .dataframe tbody tr th {\n",
       "        vertical-align: top;\n",
       "    }\n",
       "\n",
       "    .dataframe thead th {\n",
       "        text-align: right;\n",
       "    }\n",
       "</style>\n",
       "<table border=\"1\" class=\"dataframe\">\n",
       "  <thead>\n",
       "    <tr style=\"text-align: right;\">\n",
       "      <th></th>\n",
       "      <th>Unnamed: 0</th>\n",
       "      <th>artist_name</th>\n",
       "      <th>track_name</th>\n",
       "      <th>track_id</th>\n",
       "      <th>popularity</th>\n",
       "      <th>year</th>\n",
       "      <th>genre</th>\n",
       "      <th>danceability</th>\n",
       "      <th>energy</th>\n",
       "      <th>key</th>\n",
       "      <th>loudness</th>\n",
       "      <th>mode</th>\n",
       "      <th>speechiness</th>\n",
       "      <th>acousticness</th>\n",
       "      <th>instrumentalness</th>\n",
       "      <th>liveness</th>\n",
       "      <th>valence</th>\n",
       "      <th>tempo</th>\n",
       "      <th>duration_ms</th>\n",
       "      <th>time_signature</th>\n",
       "    </tr>\n",
       "  </thead>\n",
       "  <tbody>\n",
       "    <tr>\n",
       "      <th>0</th>\n",
       "      <td>0</td>\n",
       "      <td>Jason Mraz</td>\n",
       "      <td>I Won't Give Up</td>\n",
       "      <td>53QF56cjZA9RTuuMZDrSA6</td>\n",
       "      <td>68</td>\n",
       "      <td>2012</td>\n",
       "      <td>acoustic</td>\n",
       "      <td>0.483</td>\n",
       "      <td>0.303</td>\n",
       "      <td>4</td>\n",
       "      <td>-10.058</td>\n",
       "      <td>1</td>\n",
       "      <td>0.0429</td>\n",
       "      <td>0.6940</td>\n",
       "      <td>0.000000</td>\n",
       "      <td>0.1150</td>\n",
       "      <td>0.139</td>\n",
       "      <td>133.406</td>\n",
       "      <td>240166</td>\n",
       "      <td>3</td>\n",
       "    </tr>\n",
       "    <tr>\n",
       "      <th>1</th>\n",
       "      <td>1</td>\n",
       "      <td>Jason Mraz</td>\n",
       "      <td>93 Million Miles</td>\n",
       "      <td>1s8tP3jP4GZcyHDsjvw218</td>\n",
       "      <td>50</td>\n",
       "      <td>2012</td>\n",
       "      <td>acoustic</td>\n",
       "      <td>0.572</td>\n",
       "      <td>0.454</td>\n",
       "      <td>3</td>\n",
       "      <td>-10.286</td>\n",
       "      <td>1</td>\n",
       "      <td>0.0258</td>\n",
       "      <td>0.4770</td>\n",
       "      <td>0.000014</td>\n",
       "      <td>0.0974</td>\n",
       "      <td>0.515</td>\n",
       "      <td>140.182</td>\n",
       "      <td>216387</td>\n",
       "      <td>4</td>\n",
       "    </tr>\n",
       "    <tr>\n",
       "      <th>2</th>\n",
       "      <td>2</td>\n",
       "      <td>Joshua Hyslop</td>\n",
       "      <td>Do Not Let Me Go</td>\n",
       "      <td>7BRCa8MPiyuvr2VU3O9W0F</td>\n",
       "      <td>57</td>\n",
       "      <td>2012</td>\n",
       "      <td>acoustic</td>\n",
       "      <td>0.409</td>\n",
       "      <td>0.234</td>\n",
       "      <td>3</td>\n",
       "      <td>-13.711</td>\n",
       "      <td>1</td>\n",
       "      <td>0.0323</td>\n",
       "      <td>0.3380</td>\n",
       "      <td>0.000050</td>\n",
       "      <td>0.0895</td>\n",
       "      <td>0.145</td>\n",
       "      <td>139.832</td>\n",
       "      <td>158960</td>\n",
       "      <td>4</td>\n",
       "    </tr>\n",
       "    <tr>\n",
       "      <th>3</th>\n",
       "      <td>3</td>\n",
       "      <td>Boyce Avenue</td>\n",
       "      <td>Fast Car</td>\n",
       "      <td>63wsZUhUZLlh1OsyrZq7sz</td>\n",
       "      <td>58</td>\n",
       "      <td>2012</td>\n",
       "      <td>acoustic</td>\n",
       "      <td>0.392</td>\n",
       "      <td>0.251</td>\n",
       "      <td>10</td>\n",
       "      <td>-9.845</td>\n",
       "      <td>1</td>\n",
       "      <td>0.0363</td>\n",
       "      <td>0.8070</td>\n",
       "      <td>0.000000</td>\n",
       "      <td>0.0797</td>\n",
       "      <td>0.508</td>\n",
       "      <td>204.961</td>\n",
       "      <td>304293</td>\n",
       "      <td>4</td>\n",
       "    </tr>\n",
       "    <tr>\n",
       "      <th>4</th>\n",
       "      <td>4</td>\n",
       "      <td>Andrew Belle</td>\n",
       "      <td>Sky's Still Blue</td>\n",
       "      <td>6nXIYClvJAfi6ujLiKqEq8</td>\n",
       "      <td>54</td>\n",
       "      <td>2012</td>\n",
       "      <td>acoustic</td>\n",
       "      <td>0.430</td>\n",
       "      <td>0.791</td>\n",
       "      <td>6</td>\n",
       "      <td>-5.419</td>\n",
       "      <td>0</td>\n",
       "      <td>0.0302</td>\n",
       "      <td>0.0726</td>\n",
       "      <td>0.019300</td>\n",
       "      <td>0.1100</td>\n",
       "      <td>0.217</td>\n",
       "      <td>171.864</td>\n",
       "      <td>244320</td>\n",
       "      <td>4</td>\n",
       "    </tr>\n",
       "  </tbody>\n",
       "</table>\n",
       "</div>"
      ],
      "text/plain": [
       "   Unnamed: 0    artist_name        track_name                track_id  \\\n",
       "0           0     Jason Mraz   I Won't Give Up  53QF56cjZA9RTuuMZDrSA6   \n",
       "1           1     Jason Mraz  93 Million Miles  1s8tP3jP4GZcyHDsjvw218   \n",
       "2           2  Joshua Hyslop  Do Not Let Me Go  7BRCa8MPiyuvr2VU3O9W0F   \n",
       "3           3   Boyce Avenue          Fast Car  63wsZUhUZLlh1OsyrZq7sz   \n",
       "4           4   Andrew Belle  Sky's Still Blue  6nXIYClvJAfi6ujLiKqEq8   \n",
       "\n",
       "   popularity  year     genre  danceability  energy  key  loudness  mode  \\\n",
       "0          68  2012  acoustic         0.483   0.303    4   -10.058     1   \n",
       "1          50  2012  acoustic         0.572   0.454    3   -10.286     1   \n",
       "2          57  2012  acoustic         0.409   0.234    3   -13.711     1   \n",
       "3          58  2012  acoustic         0.392   0.251   10    -9.845     1   \n",
       "4          54  2012  acoustic         0.430   0.791    6    -5.419     0   \n",
       "\n",
       "   speechiness  acousticness  instrumentalness  liveness  valence    tempo  \\\n",
       "0       0.0429        0.6940          0.000000    0.1150    0.139  133.406   \n",
       "1       0.0258        0.4770          0.000014    0.0974    0.515  140.182   \n",
       "2       0.0323        0.3380          0.000050    0.0895    0.145  139.832   \n",
       "3       0.0363        0.8070          0.000000    0.0797    0.508  204.961   \n",
       "4       0.0302        0.0726          0.019300    0.1100    0.217  171.864   \n",
       "\n",
       "   duration_ms  time_signature  \n",
       "0       240166               3  \n",
       "1       216387               4  \n",
       "2       158960               4  \n",
       "3       304293               4  \n",
       "4       244320               4  "
      ]
     },
     "execution_count": 2,
     "metadata": {},
     "output_type": "execute_result"
    }
   ],
   "source": [
    "df = pd.read_csv('spotify_data.csv')\n",
    "df.head(5)"
   ]
  },
  {
   "cell_type": "code",
   "execution_count": 3,
   "metadata": {
    "id": "p4yANqjhhyO-"
   },
   "outputs": [],
   "source": [
    "df.drop('Unnamed: 0', inplace = True, axis = 1)\n",
    "df_cleaned = df.dropna()"
   ]
  },
  {
   "cell_type": "markdown",
   "metadata": {},
   "source": [
    "# Import lyrics dataset"
   ]
  },
  {
   "cell_type": "code",
   "execution_count": 5,
   "metadata": {},
   "outputs": [],
   "source": [
    "import json"
   ]
  },
  {
   "cell_type": "code",
   "execution_count": 6,
   "metadata": {},
   "outputs": [],
   "source": [
    "# new_df is from a new kaggle dataset that has lyrics \n",
    "# combined_df includes artist name\n",
    "# df_with_lyrics original dataset with lyrics merged"
   ]
  },
  {
   "cell_type": "code",
   "execution_count": 7,
   "metadata": {},
   "outputs": [
    {
     "data": {
      "text/html": [
       "<div>\n",
       "<style scoped>\n",
       "    .dataframe tbody tr th:only-of-type {\n",
       "        vertical-align: middle;\n",
       "    }\n",
       "\n",
       "    .dataframe tbody tr th {\n",
       "        vertical-align: top;\n",
       "    }\n",
       "\n",
       "    .dataframe thead th {\n",
       "        text-align: right;\n",
       "    }\n",
       "</style>\n",
       "<table border=\"1\" class=\"dataframe\">\n",
       "  <thead>\n",
       "    <tr style=\"text-align: right;\">\n",
       "      <th></th>\n",
       "      <th>Unnamed: 0</th>\n",
       "      <th>acousticness</th>\n",
       "      <th>album_id</th>\n",
       "      <th>analysis_url</th>\n",
       "      <th>artists_id</th>\n",
       "      <th>available_markets</th>\n",
       "      <th>country</th>\n",
       "      <th>danceability</th>\n",
       "      <th>disc_number</th>\n",
       "      <th>duration_ms</th>\n",
       "      <th>...</th>\n",
       "      <th>speechiness</th>\n",
       "      <th>tempo</th>\n",
       "      <th>time_signature</th>\n",
       "      <th>track_href</th>\n",
       "      <th>track_name_prev</th>\n",
       "      <th>track_number</th>\n",
       "      <th>uri</th>\n",
       "      <th>valence</th>\n",
       "      <th>type</th>\n",
       "      <th>artist_id</th>\n",
       "    </tr>\n",
       "  </thead>\n",
       "  <tbody>\n",
       "    <tr>\n",
       "      <th>0</th>\n",
       "      <td>0</td>\n",
       "      <td>0.294</td>\n",
       "      <td>0D3QufeCudpQANOR7luqdr</td>\n",
       "      <td>https://api.spotify.com/v1/audio-analysis/5qlj...</td>\n",
       "      <td>['3mxJuHRn2ZWD5OofvJtDZY']</td>\n",
       "      <td>['AD', 'AE', 'AR', 'AT', 'AU', 'BE', 'BG', 'BH...</td>\n",
       "      <td>BE</td>\n",
       "      <td>0.698</td>\n",
       "      <td>1.0</td>\n",
       "      <td>235584.0</td>\n",
       "      <td>...</td>\n",
       "      <td>0.0262</td>\n",
       "      <td>115.018</td>\n",
       "      <td>4.0</td>\n",
       "      <td>https://api.spotify.com/v1/tracks/5qljLQuKnNJf...</td>\n",
       "      <td>track_14</td>\n",
       "      <td>1.0</td>\n",
       "      <td>spotify:track:5qljLQuKnNJf4F4vfxQB0V</td>\n",
       "      <td>0.6220</td>\n",
       "      <td>track</td>\n",
       "      <td>3mxJuHRn2ZWD5OofvJtDZY</td>\n",
       "    </tr>\n",
       "    <tr>\n",
       "      <th>1</th>\n",
       "      <td>1</td>\n",
       "      <td>0.863</td>\n",
       "      <td>1bcqsH5UyTBzmh9YizdsBE</td>\n",
       "      <td>https://api.spotify.com/v1/audio-analysis/3VAX...</td>\n",
       "      <td>['4xWMewm6CYMstu0sPgd9jJ']</td>\n",
       "      <td>['AD', 'AE', 'AR', 'AT', 'AU', 'BE', 'BG', 'BH...</td>\n",
       "      <td>BE</td>\n",
       "      <td>0.719</td>\n",
       "      <td>1.0</td>\n",
       "      <td>656960.0</td>\n",
       "      <td>...</td>\n",
       "      <td>0.9220</td>\n",
       "      <td>115.075</td>\n",
       "      <td>3.0</td>\n",
       "      <td>https://api.spotify.com/v1/tracks/3VAX2MJdmdqA...</td>\n",
       "      <td>track_3</td>\n",
       "      <td>3.0</td>\n",
       "      <td>spotify:track:3VAX2MJdmdqARLSU5hPMpm</td>\n",
       "      <td>0.5890</td>\n",
       "      <td>track</td>\n",
       "      <td>4xWMewm6CYMstu0sPgd9jJ</td>\n",
       "    </tr>\n",
       "    <tr>\n",
       "      <th>2</th>\n",
       "      <td>2</td>\n",
       "      <td>0.750</td>\n",
       "      <td>4tKijjmxGClg4JOLAyo2qE</td>\n",
       "      <td>https://api.spotify.com/v1/audio-analysis/1L3Y...</td>\n",
       "      <td>['3hYaK5FF3YAglCj5HZgBnP']</td>\n",
       "      <td>['GB']</td>\n",
       "      <td>BE</td>\n",
       "      <td>0.466</td>\n",
       "      <td>1.0</td>\n",
       "      <td>492840.0</td>\n",
       "      <td>...</td>\n",
       "      <td>0.9440</td>\n",
       "      <td>79.565</td>\n",
       "      <td>4.0</td>\n",
       "      <td>https://api.spotify.com/v1/tracks/1L3YAhsEMrGV...</td>\n",
       "      <td>track_4</td>\n",
       "      <td>4.0</td>\n",
       "      <td>spotify:track:1L3YAhsEMrGVvCgDXj2TYn</td>\n",
       "      <td>0.0850</td>\n",
       "      <td>track</td>\n",
       "      <td>3hYaK5FF3YAglCj5HZgBnP</td>\n",
       "    </tr>\n",
       "    <tr>\n",
       "      <th>3</th>\n",
       "      <td>3</td>\n",
       "      <td>0.763</td>\n",
       "      <td>6FeJF5r8roonnKraJxr4oB</td>\n",
       "      <td>https://api.spotify.com/v1/audio-analysis/6aCe...</td>\n",
       "      <td>['2KQsUB9DRBcJk17JWX1eXD']</td>\n",
       "      <td>['AD', 'AE', 'AR', 'AT', 'AU', 'BE', 'BG', 'BH...</td>\n",
       "      <td>BE</td>\n",
       "      <td>0.719</td>\n",
       "      <td>1.0</td>\n",
       "      <td>316578.0</td>\n",
       "      <td>...</td>\n",
       "      <td>0.9380</td>\n",
       "      <td>112.822</td>\n",
       "      <td>3.0</td>\n",
       "      <td>https://api.spotify.com/v1/tracks/6aCe9zzoZmCo...</td>\n",
       "      <td>track_9</td>\n",
       "      <td>1.0</td>\n",
       "      <td>spotify:track:6aCe9zzoZmCojX7bbgKKtf</td>\n",
       "      <td>0.5330</td>\n",
       "      <td>track</td>\n",
       "      <td>2KQsUB9DRBcJk17JWX1eXD</td>\n",
       "    </tr>\n",
       "    <tr>\n",
       "      <th>4</th>\n",
       "      <td>4</td>\n",
       "      <td>0.770</td>\n",
       "      <td>4tKijjmxGClg4JOLAyo2qE</td>\n",
       "      <td>https://api.spotify.com/v1/audio-analysis/1Vo8...</td>\n",
       "      <td>['3hYaK5FF3YAglCj5HZgBnP']</td>\n",
       "      <td>['GB']</td>\n",
       "      <td>BE</td>\n",
       "      <td>0.460</td>\n",
       "      <td>1.0</td>\n",
       "      <td>558880.0</td>\n",
       "      <td>...</td>\n",
       "      <td>0.9430</td>\n",
       "      <td>81.260</td>\n",
       "      <td>4.0</td>\n",
       "      <td>https://api.spotify.com/v1/tracks/1Vo802A38tPF...</td>\n",
       "      <td>track_2</td>\n",
       "      <td>2.0</td>\n",
       "      <td>spotify:track:1Vo802A38tPFHmje1h91um</td>\n",
       "      <td>0.0906</td>\n",
       "      <td>track</td>\n",
       "      <td>3hYaK5FF3YAglCj5HZgBnP</td>\n",
       "    </tr>\n",
       "  </tbody>\n",
       "</table>\n",
       "<p>5 rows × 33 columns</p>\n",
       "</div>"
      ],
      "text/plain": [
       "   Unnamed: 0  acousticness                album_id  \\\n",
       "0           0         0.294  0D3QufeCudpQANOR7luqdr   \n",
       "1           1         0.863  1bcqsH5UyTBzmh9YizdsBE   \n",
       "2           2         0.750  4tKijjmxGClg4JOLAyo2qE   \n",
       "3           3         0.763  6FeJF5r8roonnKraJxr4oB   \n",
       "4           4         0.770  4tKijjmxGClg4JOLAyo2qE   \n",
       "\n",
       "                                        analysis_url  \\\n",
       "0  https://api.spotify.com/v1/audio-analysis/5qlj...   \n",
       "1  https://api.spotify.com/v1/audio-analysis/3VAX...   \n",
       "2  https://api.spotify.com/v1/audio-analysis/1L3Y...   \n",
       "3  https://api.spotify.com/v1/audio-analysis/6aCe...   \n",
       "4  https://api.spotify.com/v1/audio-analysis/1Vo8...   \n",
       "\n",
       "                   artists_id  \\\n",
       "0  ['3mxJuHRn2ZWD5OofvJtDZY']   \n",
       "1  ['4xWMewm6CYMstu0sPgd9jJ']   \n",
       "2  ['3hYaK5FF3YAglCj5HZgBnP']   \n",
       "3  ['2KQsUB9DRBcJk17JWX1eXD']   \n",
       "4  ['3hYaK5FF3YAglCj5HZgBnP']   \n",
       "\n",
       "                                   available_markets country  danceability  \\\n",
       "0  ['AD', 'AE', 'AR', 'AT', 'AU', 'BE', 'BG', 'BH...      BE         0.698   \n",
       "1  ['AD', 'AE', 'AR', 'AT', 'AU', 'BE', 'BG', 'BH...      BE         0.719   \n",
       "2                                             ['GB']      BE         0.466   \n",
       "3  ['AD', 'AE', 'AR', 'AT', 'AU', 'BE', 'BG', 'BH...      BE         0.719   \n",
       "4                                             ['GB']      BE         0.460   \n",
       "\n",
       "   disc_number  duration_ms  ...  speechiness    tempo time_signature  \\\n",
       "0          1.0     235584.0  ...       0.0262  115.018            4.0   \n",
       "1          1.0     656960.0  ...       0.9220  115.075            3.0   \n",
       "2          1.0     492840.0  ...       0.9440   79.565            4.0   \n",
       "3          1.0     316578.0  ...       0.9380  112.822            3.0   \n",
       "4          1.0     558880.0  ...       0.9430   81.260            4.0   \n",
       "\n",
       "                                          track_href  track_name_prev  \\\n",
       "0  https://api.spotify.com/v1/tracks/5qljLQuKnNJf...         track_14   \n",
       "1  https://api.spotify.com/v1/tracks/3VAX2MJdmdqA...          track_3   \n",
       "2  https://api.spotify.com/v1/tracks/1L3YAhsEMrGV...          track_4   \n",
       "3  https://api.spotify.com/v1/tracks/6aCe9zzoZmCo...          track_9   \n",
       "4  https://api.spotify.com/v1/tracks/1Vo802A38tPF...          track_2   \n",
       "\n",
       "   track_number                                   uri valence   type  \\\n",
       "0           1.0  spotify:track:5qljLQuKnNJf4F4vfxQB0V  0.6220  track   \n",
       "1           3.0  spotify:track:3VAX2MJdmdqARLSU5hPMpm  0.5890  track   \n",
       "2           4.0  spotify:track:1L3YAhsEMrGVvCgDXj2TYn  0.0850  track   \n",
       "3           1.0  spotify:track:6aCe9zzoZmCojX7bbgKKtf  0.5330  track   \n",
       "4           2.0  spotify:track:1Vo802A38tPFHmje1h91um  0.0906  track   \n",
       "\n",
       "                artist_id  \n",
       "0  3mxJuHRn2ZWD5OofvJtDZY  \n",
       "1  4xWMewm6CYMstu0sPgd9jJ  \n",
       "2  3hYaK5FF3YAglCj5HZgBnP  \n",
       "3  2KQsUB9DRBcJk17JWX1eXD  \n",
       "4  3hYaK5FF3YAglCj5HZgBnP  \n",
       "\n",
       "[5 rows x 33 columns]"
      ]
     },
     "execution_count": 7,
     "metadata": {},
     "output_type": "execute_result"
    }
   ],
   "source": [
    "from ast import literal_eval\n",
    "new_df = pd.read_csv('spotify_tracks.csv')\n",
    "new_df['artist_id'] = new_df['artists_id'].apply(lambda x: literal_eval(x)[0])\n",
    "new_df.head(5)"
   ]
  },
  {
   "cell_type": "code",
   "execution_count": 8,
   "metadata": {},
   "outputs": [
    {
     "data": {
      "text/plain": [
       "dtype('O')"
      ]
     },
     "execution_count": 8,
     "metadata": {},
     "output_type": "execute_result"
    }
   ],
   "source": [
    "new_df['artists_id'].dtype"
   ]
  },
  {
   "cell_type": "code",
   "execution_count": 9,
   "metadata": {},
   "outputs": [
    {
     "data": {
      "text/html": [
       "<div>\n",
       "<style scoped>\n",
       "    .dataframe tbody tr th:only-of-type {\n",
       "        vertical-align: middle;\n",
       "    }\n",
       "\n",
       "    .dataframe tbody tr th {\n",
       "        vertical-align: top;\n",
       "    }\n",
       "\n",
       "    .dataframe thead th {\n",
       "        text-align: right;\n",
       "    }\n",
       "</style>\n",
       "<table border=\"1\" class=\"dataframe\">\n",
       "  <thead>\n",
       "    <tr style=\"text-align: right;\">\n",
       "      <th></th>\n",
       "      <th>Unnamed: 0</th>\n",
       "      <th>artist_popularity</th>\n",
       "      <th>followers</th>\n",
       "      <th>genres</th>\n",
       "      <th>id</th>\n",
       "      <th>name</th>\n",
       "      <th>track_id</th>\n",
       "      <th>track_name_prev</th>\n",
       "      <th>type</th>\n",
       "    </tr>\n",
       "  </thead>\n",
       "  <tbody>\n",
       "    <tr>\n",
       "      <th>0</th>\n",
       "      <td>0</td>\n",
       "      <td>44</td>\n",
       "      <td>23230</td>\n",
       "      <td>['sertanejo', 'sertanejo pop', 'sertanejo trad...</td>\n",
       "      <td>4mGnpjhqgx4RUdsIJiURdo</td>\n",
       "      <td>Juliano Cezar</td>\n",
       "      <td>0wmDmAILuW9e2aRttkl4aC</td>\n",
       "      <td>track_9</td>\n",
       "      <td>artist</td>\n",
       "    </tr>\n",
       "    <tr>\n",
       "      <th>1</th>\n",
       "      <td>1</td>\n",
       "      <td>22</td>\n",
       "      <td>313</td>\n",
       "      <td>[]</td>\n",
       "      <td>1dLnVku4VQUOLswwDFvRc9</td>\n",
       "      <td>The Grenadines</td>\n",
       "      <td>4wqwj0gA8qPZKLl5WVqXml</td>\n",
       "      <td>track_30</td>\n",
       "      <td>artist</td>\n",
       "    </tr>\n",
       "    <tr>\n",
       "      <th>2</th>\n",
       "      <td>2</td>\n",
       "      <td>26</td>\n",
       "      <td>1596</td>\n",
       "      <td>['danish pop rock']</td>\n",
       "      <td>6YVY310fjfUzKi8hiqR7iK</td>\n",
       "      <td>Gangway</td>\n",
       "      <td>1bFqWDbvHmZe2f4Nf9qaD8</td>\n",
       "      <td>track_38</td>\n",
       "      <td>artist</td>\n",
       "    </tr>\n",
       "    <tr>\n",
       "      <th>3</th>\n",
       "      <td>3</td>\n",
       "      <td>31</td>\n",
       "      <td>149</td>\n",
       "      <td>['uk alternative pop']</td>\n",
       "      <td>2VElyouiCfoYPDJluzwJwK</td>\n",
       "      <td>FADES</td>\n",
       "      <td>3MFSUBAidPzRBbIS7BDj1S</td>\n",
       "      <td>track_34</td>\n",
       "      <td>artist</td>\n",
       "    </tr>\n",
       "    <tr>\n",
       "      <th>4</th>\n",
       "      <td>4</td>\n",
       "      <td>21</td>\n",
       "      <td>11</td>\n",
       "      <td>['french baroque']</td>\n",
       "      <td>4agVy03qW8juSysCTUOuDI</td>\n",
       "      <td>Jean-Pierre Guignon</td>\n",
       "      <td>2r3q57FhxdsCyYr0kuDq4b</td>\n",
       "      <td>track_26</td>\n",
       "      <td>artist</td>\n",
       "    </tr>\n",
       "  </tbody>\n",
       "</table>\n",
       "</div>"
      ],
      "text/plain": [
       "   Unnamed: 0  artist_popularity  followers  \\\n",
       "0           0                 44      23230   \n",
       "1           1                 22        313   \n",
       "2           2                 26       1596   \n",
       "3           3                 31        149   \n",
       "4           4                 21         11   \n",
       "\n",
       "                                              genres                      id  \\\n",
       "0  ['sertanejo', 'sertanejo pop', 'sertanejo trad...  4mGnpjhqgx4RUdsIJiURdo   \n",
       "1                                                 []  1dLnVku4VQUOLswwDFvRc9   \n",
       "2                                ['danish pop rock']  6YVY310fjfUzKi8hiqR7iK   \n",
       "3                             ['uk alternative pop']  2VElyouiCfoYPDJluzwJwK   \n",
       "4                                 ['french baroque']  4agVy03qW8juSysCTUOuDI   \n",
       "\n",
       "                  name                track_id track_name_prev    type  \n",
       "0        Juliano Cezar  0wmDmAILuW9e2aRttkl4aC         track_9  artist  \n",
       "1       The Grenadines  4wqwj0gA8qPZKLl5WVqXml        track_30  artist  \n",
       "2              Gangway  1bFqWDbvHmZe2f4Nf9qaD8        track_38  artist  \n",
       "3                FADES  3MFSUBAidPzRBbIS7BDj1S        track_34  artist  \n",
       "4  Jean-Pierre Guignon  2r3q57FhxdsCyYr0kuDq4b        track_26  artist  "
      ]
     },
     "execution_count": 9,
     "metadata": {},
     "output_type": "execute_result"
    }
   ],
   "source": [
    "artist_df = pd.read_csv('spotify_artists.csv')\n",
    "artist_df.head(5)"
   ]
  },
  {
   "cell_type": "code",
   "execution_count": 10,
   "metadata": {},
   "outputs": [],
   "source": [
    "combined_df = pd.merge(new_df, artist_df[['id', 'name']], left_on='artist_id', right_on='id', how='left', suffixes=['', '_artist'])"
   ]
  },
  {
   "cell_type": "code",
   "execution_count": 11,
   "metadata": {},
   "outputs": [
    {
     "data": {
      "text/plain": [
       "Index(['Unnamed: 0', 'acousticness', 'album_id', 'analysis_url', 'artists_id',\n",
       "       'available_markets', 'country', 'danceability', 'disc_number',\n",
       "       'duration_ms', 'energy', 'href', 'id', 'instrumentalness', 'key',\n",
       "       'liveness', 'loudness', 'lyrics', 'mode', 'name', 'playlist',\n",
       "       'popularity', 'preview_url', 'speechiness', 'tempo', 'time_signature',\n",
       "       'track_href', 'track_name_prev', 'track_number', 'uri', 'valence',\n",
       "       'type', 'artist_id', 'id_artist', 'name_artist'],\n",
       "      dtype='object')"
      ]
     },
     "execution_count": 11,
     "metadata": {},
     "output_type": "execute_result"
    }
   ],
   "source": [
    "combined_df.columns"
   ]
  },
  {
   "cell_type": "code",
   "execution_count": 12,
   "metadata": {},
   "outputs": [],
   "source": [
    "combined_df.dropna(inplace=True)"
   ]
  },
  {
   "cell_type": "code",
   "execution_count": 13,
   "metadata": {},
   "outputs": [
    {
     "data": {
      "text/plain": [
       "(101939, 33)"
      ]
     },
     "execution_count": 13,
     "metadata": {},
     "output_type": "execute_result"
    }
   ],
   "source": [
    "new_df.shape"
   ]
  },
  {
   "cell_type": "code",
   "execution_count": 14,
   "metadata": {},
   "outputs": [
    {
     "name": "stderr",
     "output_type": "stream",
     "text": [
      "C:\\Users\\siriu\\AppData\\Local\\Temp\\ipykernel_36744\\3652009413.py:2: SettingWithCopyWarning: \n",
      "A value is trying to be set on a copy of a slice from a DataFrame.\n",
      "Try using .loc[row_indexer,col_indexer] = value instead\n",
      "\n",
      "See the caveats in the documentation: https://pandas.pydata.org/pandas-docs/stable/user_guide/indexing.html#returning-a-view-versus-a-copy\n",
      "  lyrics_df['track_id'] = lyrics_df['uri'].apply(lambda x: x.split(':')[2])\n"
     ]
    },
    {
     "data": {
      "text/html": [
       "<div>\n",
       "<style scoped>\n",
       "    .dataframe tbody tr th:only-of-type {\n",
       "        vertical-align: middle;\n",
       "    }\n",
       "\n",
       "    .dataframe tbody tr th {\n",
       "        vertical-align: top;\n",
       "    }\n",
       "\n",
       "    .dataframe thead th {\n",
       "        text-align: right;\n",
       "    }\n",
       "</style>\n",
       "<table border=\"1\" class=\"dataframe\">\n",
       "  <thead>\n",
       "    <tr style=\"text-align: right;\">\n",
       "      <th></th>\n",
       "      <th>lyrics</th>\n",
       "      <th>track_id</th>\n",
       "    </tr>\n",
       "  </thead>\n",
       "  <tbody>\n",
       "    <tr>\n",
       "      <th>0</th>\n",
       "      <td>\\r\\n\\r\\nPerhaps I am bound to be restless\\r\\nA...</td>\n",
       "      <td>5qljLQuKnNJf4F4vfxQB0V</td>\n",
       "    </tr>\n",
       "    <tr>\n",
       "      <th>1</th>\n",
       "      <td>\\r\\nYour Gods and my Gods-do you or I know whi...</td>\n",
       "      <td>3VAX2MJdmdqARLSU5hPMpm</td>\n",
       "    </tr>\n",
       "    <tr>\n",
       "      <th>2</th>\n",
       "      <td>\\r\\n\\r\\nClosed off from love, I didn't need th...</td>\n",
       "      <td>1L3YAhsEMrGVvCgDXj2TYn</td>\n",
       "    </tr>\n",
       "    <tr>\n",
       "      <th>3</th>\n",
       "      <td>\\r\\nPAIN, n. An uncomfortable frame of mind th...</td>\n",
       "      <td>6aCe9zzoZmCojX7bbgKKtf</td>\n",
       "    </tr>\n",
       "    <tr>\n",
       "      <th>4</th>\n",
       "      <td>\\r\\n\\r\\nClosed off from love, I didn't need th...</td>\n",
       "      <td>1Vo802A38tPFHmje1h91um</td>\n",
       "    </tr>\n",
       "  </tbody>\n",
       "</table>\n",
       "</div>"
      ],
      "text/plain": [
       "                                              lyrics                track_id\n",
       "0  \\r\\n\\r\\nPerhaps I am bound to be restless\\r\\nA...  5qljLQuKnNJf4F4vfxQB0V\n",
       "1  \\r\\nYour Gods and my Gods-do you or I know whi...  3VAX2MJdmdqARLSU5hPMpm\n",
       "2  \\r\\n\\r\\nClosed off from love, I didn't need th...  1L3YAhsEMrGVvCgDXj2TYn\n",
       "3  \\r\\nPAIN, n. An uncomfortable frame of mind th...  6aCe9zzoZmCojX7bbgKKtf\n",
       "4  \\r\\n\\r\\nClosed off from love, I didn't need th...  1Vo802A38tPFHmje1h91um"
      ]
     },
     "execution_count": 14,
     "metadata": {},
     "output_type": "execute_result"
    }
   ],
   "source": [
    "lyrics_df = new_df[['uri', 'lyrics']]\n",
    "lyrics_df['track_id'] = lyrics_df['uri'].apply(lambda x: x.split(':')[2])\n",
    "lyrics_df = lyrics_df.drop(columns=['uri'])\n",
    "lyrics_df.head(5)"
   ]
  },
  {
   "cell_type": "code",
   "execution_count": 15,
   "metadata": {},
   "outputs": [
    {
     "data": {
      "text/html": [
       "<div>\n",
       "<style scoped>\n",
       "    .dataframe tbody tr th:only-of-type {\n",
       "        vertical-align: middle;\n",
       "    }\n",
       "\n",
       "    .dataframe tbody tr th {\n",
       "        vertical-align: top;\n",
       "    }\n",
       "\n",
       "    .dataframe thead th {\n",
       "        text-align: right;\n",
       "    }\n",
       "</style>\n",
       "<table border=\"1\" class=\"dataframe\">\n",
       "  <thead>\n",
       "    <tr style=\"text-align: right;\">\n",
       "      <th></th>\n",
       "      <th>artist_name</th>\n",
       "      <th>track_name</th>\n",
       "      <th>track_id</th>\n",
       "      <th>popularity</th>\n",
       "      <th>year</th>\n",
       "      <th>genre</th>\n",
       "      <th>danceability</th>\n",
       "      <th>energy</th>\n",
       "      <th>key</th>\n",
       "      <th>loudness</th>\n",
       "      <th>mode</th>\n",
       "      <th>speechiness</th>\n",
       "      <th>acousticness</th>\n",
       "      <th>instrumentalness</th>\n",
       "      <th>liveness</th>\n",
       "      <th>valence</th>\n",
       "      <th>tempo</th>\n",
       "      <th>duration_ms</th>\n",
       "      <th>time_signature</th>\n",
       "      <th>lyrics</th>\n",
       "    </tr>\n",
       "  </thead>\n",
       "  <tbody>\n",
       "    <tr>\n",
       "      <th>0</th>\n",
       "      <td>Jason Mraz</td>\n",
       "      <td>I Won't Give Up</td>\n",
       "      <td>53QF56cjZA9RTuuMZDrSA6</td>\n",
       "      <td>68</td>\n",
       "      <td>2012</td>\n",
       "      <td>acoustic</td>\n",
       "      <td>0.483</td>\n",
       "      <td>0.303</td>\n",
       "      <td>4</td>\n",
       "      <td>-10.058</td>\n",
       "      <td>1</td>\n",
       "      <td>0.0429</td>\n",
       "      <td>0.6940</td>\n",
       "      <td>0.000000</td>\n",
       "      <td>0.1150</td>\n",
       "      <td>0.139</td>\n",
       "      <td>133.406</td>\n",
       "      <td>240166</td>\n",
       "      <td>3</td>\n",
       "      <td>\\r\\n\\r\\nWhen I look into your eyes\\r\\nIt's lik...</td>\n",
       "    </tr>\n",
       "    <tr>\n",
       "      <th>1</th>\n",
       "      <td>Jason Mraz</td>\n",
       "      <td>93 Million Miles</td>\n",
       "      <td>1s8tP3jP4GZcyHDsjvw218</td>\n",
       "      <td>50</td>\n",
       "      <td>2012</td>\n",
       "      <td>acoustic</td>\n",
       "      <td>0.572</td>\n",
       "      <td>0.454</td>\n",
       "      <td>3</td>\n",
       "      <td>-10.286</td>\n",
       "      <td>1</td>\n",
       "      <td>0.0258</td>\n",
       "      <td>0.4770</td>\n",
       "      <td>0.000014</td>\n",
       "      <td>0.0974</td>\n",
       "      <td>0.515</td>\n",
       "      <td>140.182</td>\n",
       "      <td>216387</td>\n",
       "      <td>4</td>\n",
       "      <td>NaN</td>\n",
       "    </tr>\n",
       "    <tr>\n",
       "      <th>2</th>\n",
       "      <td>Joshua Hyslop</td>\n",
       "      <td>Do Not Let Me Go</td>\n",
       "      <td>7BRCa8MPiyuvr2VU3O9W0F</td>\n",
       "      <td>57</td>\n",
       "      <td>2012</td>\n",
       "      <td>acoustic</td>\n",
       "      <td>0.409</td>\n",
       "      <td>0.234</td>\n",
       "      <td>3</td>\n",
       "      <td>-13.711</td>\n",
       "      <td>1</td>\n",
       "      <td>0.0323</td>\n",
       "      <td>0.3380</td>\n",
       "      <td>0.000050</td>\n",
       "      <td>0.0895</td>\n",
       "      <td>0.145</td>\n",
       "      <td>139.832</td>\n",
       "      <td>158960</td>\n",
       "      <td>4</td>\n",
       "      <td>NaN</td>\n",
       "    </tr>\n",
       "    <tr>\n",
       "      <th>3</th>\n",
       "      <td>Boyce Avenue</td>\n",
       "      <td>Fast Car</td>\n",
       "      <td>63wsZUhUZLlh1OsyrZq7sz</td>\n",
       "      <td>58</td>\n",
       "      <td>2012</td>\n",
       "      <td>acoustic</td>\n",
       "      <td>0.392</td>\n",
       "      <td>0.251</td>\n",
       "      <td>10</td>\n",
       "      <td>-9.845</td>\n",
       "      <td>1</td>\n",
       "      <td>0.0363</td>\n",
       "      <td>0.8070</td>\n",
       "      <td>0.000000</td>\n",
       "      <td>0.0797</td>\n",
       "      <td>0.508</td>\n",
       "      <td>204.961</td>\n",
       "      <td>304293</td>\n",
       "      <td>4</td>\n",
       "      <td>NaN</td>\n",
       "    </tr>\n",
       "    <tr>\n",
       "      <th>4</th>\n",
       "      <td>Andrew Belle</td>\n",
       "      <td>Sky's Still Blue</td>\n",
       "      <td>6nXIYClvJAfi6ujLiKqEq8</td>\n",
       "      <td>54</td>\n",
       "      <td>2012</td>\n",
       "      <td>acoustic</td>\n",
       "      <td>0.430</td>\n",
       "      <td>0.791</td>\n",
       "      <td>6</td>\n",
       "      <td>-5.419</td>\n",
       "      <td>0</td>\n",
       "      <td>0.0302</td>\n",
       "      <td>0.0726</td>\n",
       "      <td>0.019300</td>\n",
       "      <td>0.1100</td>\n",
       "      <td>0.217</td>\n",
       "      <td>171.864</td>\n",
       "      <td>244320</td>\n",
       "      <td>4</td>\n",
       "      <td>NaN</td>\n",
       "    </tr>\n",
       "  </tbody>\n",
       "</table>\n",
       "</div>"
      ],
      "text/plain": [
       "     artist_name        track_name                track_id  popularity  year  \\\n",
       "0     Jason Mraz   I Won't Give Up  53QF56cjZA9RTuuMZDrSA6          68  2012   \n",
       "1     Jason Mraz  93 Million Miles  1s8tP3jP4GZcyHDsjvw218          50  2012   \n",
       "2  Joshua Hyslop  Do Not Let Me Go  7BRCa8MPiyuvr2VU3O9W0F          57  2012   \n",
       "3   Boyce Avenue          Fast Car  63wsZUhUZLlh1OsyrZq7sz          58  2012   \n",
       "4   Andrew Belle  Sky's Still Blue  6nXIYClvJAfi6ujLiKqEq8          54  2012   \n",
       "\n",
       "      genre  danceability  energy  key  loudness  mode  speechiness  \\\n",
       "0  acoustic         0.483   0.303    4   -10.058     1       0.0429   \n",
       "1  acoustic         0.572   0.454    3   -10.286     1       0.0258   \n",
       "2  acoustic         0.409   0.234    3   -13.711     1       0.0323   \n",
       "3  acoustic         0.392   0.251   10    -9.845     1       0.0363   \n",
       "4  acoustic         0.430   0.791    6    -5.419     0       0.0302   \n",
       "\n",
       "   acousticness  instrumentalness  liveness  valence    tempo  duration_ms  \\\n",
       "0        0.6940          0.000000    0.1150    0.139  133.406       240166   \n",
       "1        0.4770          0.000014    0.0974    0.515  140.182       216387   \n",
       "2        0.3380          0.000050    0.0895    0.145  139.832       158960   \n",
       "3        0.8070          0.000000    0.0797    0.508  204.961       304293   \n",
       "4        0.0726          0.019300    0.1100    0.217  171.864       244320   \n",
       "\n",
       "   time_signature                                             lyrics  \n",
       "0               3  \\r\\n\\r\\nWhen I look into your eyes\\r\\nIt's lik...  \n",
       "1               4                                                NaN  \n",
       "2               4                                                NaN  \n",
       "3               4                                                NaN  \n",
       "4               4                                                NaN  "
      ]
     },
     "execution_count": 15,
     "metadata": {},
     "output_type": "execute_result"
    }
   ],
   "source": [
    "df_with_lyrics = pd.merge(df_cleaned, lyrics_df, on='track_id', how='left')\n",
    "df_with_lyrics.head(5)"
   ]
  },
  {
   "cell_type": "code",
   "execution_count": 16,
   "metadata": {},
   "outputs": [
    {
     "data": {
      "text/plain": [
       "artist_name               0\n",
       "track_name                0\n",
       "track_id                  0\n",
       "popularity                0\n",
       "year                      0\n",
       "genre                     0\n",
       "danceability              0\n",
       "energy                    0\n",
       "key                       0\n",
       "loudness                  0\n",
       "mode                      0\n",
       "speechiness               0\n",
       "acousticness              0\n",
       "instrumentalness          0\n",
       "liveness                  0\n",
       "valence                   0\n",
       "tempo                     0\n",
       "duration_ms               0\n",
       "time_signature            0\n",
       "lyrics              1144525\n",
       "dtype: int64"
      ]
     },
     "execution_count": 16,
     "metadata": {},
     "output_type": "execute_result"
    }
   ],
   "source": [
    "df_with_lyrics.isna().sum()"
   ]
  },
  {
   "cell_type": "code",
   "execution_count": 17,
   "metadata": {},
   "outputs": [
    {
     "data": {
      "text/plain": [
       "(1159748, 20)"
      ]
     },
     "execution_count": 17,
     "metadata": {},
     "output_type": "execute_result"
    }
   ],
   "source": [
    "df_with_lyrics.shape"
   ]
  },
  {
   "cell_type": "code",
   "execution_count": 197,
   "metadata": {},
   "outputs": [],
   "source": [
    "df_with_lyrics.dropna(inplace=True)\n",
    "df_with_lyrics = df_with_lyrics.reset_index(drop=True)"
   ]
  },
  {
   "cell_type": "code",
   "execution_count": 199,
   "metadata": {},
   "outputs": [
    {
     "data": {
      "text/plain": [
       "(15223, 20)"
      ]
     },
     "execution_count": 199,
     "metadata": {},
     "output_type": "execute_result"
    }
   ],
   "source": [
    "df_with_lyrics.shape"
   ]
  },
  {
   "cell_type": "code",
   "execution_count": 201,
   "metadata": {},
   "outputs": [
    {
     "data": {
      "text/html": [
       "<div>\n",
       "<style scoped>\n",
       "    .dataframe tbody tr th:only-of-type {\n",
       "        vertical-align: middle;\n",
       "    }\n",
       "\n",
       "    .dataframe tbody tr th {\n",
       "        vertical-align: top;\n",
       "    }\n",
       "\n",
       "    .dataframe thead th {\n",
       "        text-align: right;\n",
       "    }\n",
       "</style>\n",
       "<table border=\"1\" class=\"dataframe\">\n",
       "  <thead>\n",
       "    <tr style=\"text-align: right;\">\n",
       "      <th></th>\n",
       "      <th>Unnamed: 0.1</th>\n",
       "      <th>Unnamed: 0</th>\n",
       "      <th>duration (ms)</th>\n",
       "      <th>danceability</th>\n",
       "      <th>energy</th>\n",
       "      <th>loudness</th>\n",
       "      <th>speechiness</th>\n",
       "      <th>acousticness</th>\n",
       "      <th>instrumentalness</th>\n",
       "      <th>liveness</th>\n",
       "      <th>valence</th>\n",
       "      <th>tempo</th>\n",
       "      <th>spec_rate</th>\n",
       "      <th>labels</th>\n",
       "      <th>uri</th>\n",
       "    </tr>\n",
       "  </thead>\n",
       "  <tbody>\n",
       "    <tr>\n",
       "      <th>0</th>\n",
       "      <td>0</td>\n",
       "      <td>0</td>\n",
       "      <td>195000.0</td>\n",
       "      <td>0.611</td>\n",
       "      <td>0.614</td>\n",
       "      <td>-8.815</td>\n",
       "      <td>0.0672</td>\n",
       "      <td>0.0169</td>\n",
       "      <td>0.000794</td>\n",
       "      <td>0.7530</td>\n",
       "      <td>0.520</td>\n",
       "      <td>128.050</td>\n",
       "      <td>3.446154e-07</td>\n",
       "      <td>2</td>\n",
       "      <td>spotify:track:3v6sBj3swihU8pXQQHhDZo</td>\n",
       "    </tr>\n",
       "    <tr>\n",
       "      <th>1</th>\n",
       "      <td>1</td>\n",
       "      <td>1</td>\n",
       "      <td>194641.0</td>\n",
       "      <td>0.638</td>\n",
       "      <td>0.781</td>\n",
       "      <td>-6.848</td>\n",
       "      <td>0.0285</td>\n",
       "      <td>0.0118</td>\n",
       "      <td>0.009530</td>\n",
       "      <td>0.3490</td>\n",
       "      <td>0.250</td>\n",
       "      <td>122.985</td>\n",
       "      <td>1.464234e-07</td>\n",
       "      <td>1</td>\n",
       "      <td>spotify:track:7KCWmFdw0TzoJbKtqRRzJO</td>\n",
       "    </tr>\n",
       "    <tr>\n",
       "      <th>2</th>\n",
       "      <td>2</td>\n",
       "      <td>2</td>\n",
       "      <td>217573.0</td>\n",
       "      <td>0.560</td>\n",
       "      <td>0.810</td>\n",
       "      <td>-8.029</td>\n",
       "      <td>0.0872</td>\n",
       "      <td>0.0071</td>\n",
       "      <td>0.000008</td>\n",
       "      <td>0.2410</td>\n",
       "      <td>0.247</td>\n",
       "      <td>170.044</td>\n",
       "      <td>4.007850e-07</td>\n",
       "      <td>1</td>\n",
       "      <td>spotify:track:2CY92qejUrhyPUASawNVRr</td>\n",
       "    </tr>\n",
       "    <tr>\n",
       "      <th>3</th>\n",
       "      <td>3</td>\n",
       "      <td>3</td>\n",
       "      <td>443478.0</td>\n",
       "      <td>0.525</td>\n",
       "      <td>0.699</td>\n",
       "      <td>-4.571</td>\n",
       "      <td>0.0353</td>\n",
       "      <td>0.0178</td>\n",
       "      <td>0.000088</td>\n",
       "      <td>0.0888</td>\n",
       "      <td>0.199</td>\n",
       "      <td>92.011</td>\n",
       "      <td>7.959809e-08</td>\n",
       "      <td>0</td>\n",
       "      <td>spotify:track:11BPfwVbB7vok7KfjBeW4k</td>\n",
       "    </tr>\n",
       "    <tr>\n",
       "      <th>4</th>\n",
       "      <td>4</td>\n",
       "      <td>4</td>\n",
       "      <td>225862.0</td>\n",
       "      <td>0.367</td>\n",
       "      <td>0.771</td>\n",
       "      <td>-5.863</td>\n",
       "      <td>0.1060</td>\n",
       "      <td>0.3650</td>\n",
       "      <td>0.000001</td>\n",
       "      <td>0.0965</td>\n",
       "      <td>0.163</td>\n",
       "      <td>115.917</td>\n",
       "      <td>4.693131e-07</td>\n",
       "      <td>1</td>\n",
       "      <td>spotify:track:3yUJKPsjvThlcQWTS9ttYx</td>\n",
       "    </tr>\n",
       "  </tbody>\n",
       "</table>\n",
       "</div>"
      ],
      "text/plain": [
       "   Unnamed: 0.1  Unnamed: 0  duration (ms)  danceability  energy  loudness  \\\n",
       "0             0           0       195000.0         0.611   0.614    -8.815   \n",
       "1             1           1       194641.0         0.638   0.781    -6.848   \n",
       "2             2           2       217573.0         0.560   0.810    -8.029   \n",
       "3             3           3       443478.0         0.525   0.699    -4.571   \n",
       "4             4           4       225862.0         0.367   0.771    -5.863   \n",
       "\n",
       "   speechiness  acousticness  instrumentalness  liveness  valence    tempo  \\\n",
       "0       0.0672        0.0169          0.000794    0.7530    0.520  128.050   \n",
       "1       0.0285        0.0118          0.009530    0.3490    0.250  122.985   \n",
       "2       0.0872        0.0071          0.000008    0.2410    0.247  170.044   \n",
       "3       0.0353        0.0178          0.000088    0.0888    0.199   92.011   \n",
       "4       0.1060        0.3650          0.000001    0.0965    0.163  115.917   \n",
       "\n",
       "      spec_rate  labels                                   uri  \n",
       "0  3.446154e-07       2  spotify:track:3v6sBj3swihU8pXQQHhDZo  \n",
       "1  1.464234e-07       1  spotify:track:7KCWmFdw0TzoJbKtqRRzJO  \n",
       "2  4.007850e-07       1  spotify:track:2CY92qejUrhyPUASawNVRr  \n",
       "3  7.959809e-08       0  spotify:track:11BPfwVbB7vok7KfjBeW4k  \n",
       "4  4.693131e-07       1  spotify:track:3yUJKPsjvThlcQWTS9ttYx  "
      ]
     },
     "execution_count": 201,
     "metadata": {},
     "output_type": "execute_result"
    }
   ],
   "source": [
    "df_mood = pd.read_csv('278k_labelled_uri.csv')\n",
    "df_mood.head()"
   ]
  },
  {
   "cell_type": "code",
   "execution_count": 203,
   "metadata": {},
   "outputs": [],
   "source": [
    "#drop unnecessary columns and columns that don't match df_cleaned\n",
    "df_mood = df_mood.drop(columns = ['Unnamed: 0.1', 'Unnamed: 0', 'spec_rate'], axis = 1)\n"
   ]
  },
  {
   "cell_type": "code",
   "execution_count": 205,
   "metadata": {},
   "outputs": [],
   "source": [
    "#removing characters to match track_id\n",
    "#df_mood['uri'] = df_mood['uri'].str[14:]"
   ]
  },
  {
   "cell_type": "code",
   "execution_count": 207,
   "metadata": {},
   "outputs": [],
   "source": [
    "df_mood.rename(columns = {'duration (ms)': 'duration_ms', 'uri':'track_id'}, inplace = True)"
   ]
  },
  {
   "cell_type": "markdown",
   "metadata": {},
   "source": [
    "Labels \n",
    "0 = sad\n",
    "1 = happy\n",
    "2 = calm\n",
    "3 = energetic\n",
    "(from https://www.kaggle.com/datasets/abdullahorzan/moodify-dataset/data)"
   ]
  },
  {
   "cell_type": "markdown",
   "metadata": {},
   "source": [
    "Logistic Regression"
   ]
  },
  {
   "cell_type": "code",
   "execution_count": 211,
   "metadata": {},
   "outputs": [],
   "source": [
    "#keeping just the audio features in training dataset\n",
    "df_audio = df_with_lyrics.drop(columns = ['artist_name', 'track_name', 'track_id', 'popularity', 'year', 'genre', 'lyrics', 'key', 'mode', 'time_signature'])"
   ]
  },
  {
   "cell_type": "code",
   "execution_count": 213,
   "metadata": {},
   "outputs": [
    {
     "data": {
      "text/html": [
       "<div>\n",
       "<style scoped>\n",
       "    .dataframe tbody tr th:only-of-type {\n",
       "        vertical-align: middle;\n",
       "    }\n",
       "\n",
       "    .dataframe tbody tr th {\n",
       "        vertical-align: top;\n",
       "    }\n",
       "\n",
       "    .dataframe thead th {\n",
       "        text-align: right;\n",
       "    }\n",
       "</style>\n",
       "<table border=\"1\" class=\"dataframe\">\n",
       "  <thead>\n",
       "    <tr style=\"text-align: right;\">\n",
       "      <th></th>\n",
       "      <th>danceability</th>\n",
       "      <th>energy</th>\n",
       "      <th>loudness</th>\n",
       "      <th>speechiness</th>\n",
       "      <th>acousticness</th>\n",
       "      <th>instrumentalness</th>\n",
       "      <th>liveness</th>\n",
       "      <th>valence</th>\n",
       "      <th>tempo</th>\n",
       "      <th>duration_ms</th>\n",
       "    </tr>\n",
       "  </thead>\n",
       "  <tbody>\n",
       "    <tr>\n",
       "      <th>0</th>\n",
       "      <td>0.483</td>\n",
       "      <td>0.303</td>\n",
       "      <td>-10.058</td>\n",
       "      <td>0.0429</td>\n",
       "      <td>0.694000</td>\n",
       "      <td>0.000000</td>\n",
       "      <td>0.1150</td>\n",
       "      <td>0.1390</td>\n",
       "      <td>133.406</td>\n",
       "      <td>240166</td>\n",
       "    </tr>\n",
       "    <tr>\n",
       "      <th>1</th>\n",
       "      <td>0.262</td>\n",
       "      <td>0.341</td>\n",
       "      <td>-8.496</td>\n",
       "      <td>0.0310</td>\n",
       "      <td>0.589000</td>\n",
       "      <td>0.001540</td>\n",
       "      <td>0.1400</td>\n",
       "      <td>0.1810</td>\n",
       "      <td>99.913</td>\n",
       "      <td>262613</td>\n",
       "    </tr>\n",
       "    <tr>\n",
       "      <th>2</th>\n",
       "      <td>0.594</td>\n",
       "      <td>0.251</td>\n",
       "      <td>-9.036</td>\n",
       "      <td>0.0295</td>\n",
       "      <td>0.630000</td>\n",
       "      <td>0.000003</td>\n",
       "      <td>0.1120</td>\n",
       "      <td>0.0502</td>\n",
       "      <td>98.819</td>\n",
       "      <td>270841</td>\n",
       "    </tr>\n",
       "    <tr>\n",
       "      <th>3</th>\n",
       "      <td>0.581</td>\n",
       "      <td>0.333</td>\n",
       "      <td>-14.209</td>\n",
       "      <td>0.0320</td>\n",
       "      <td>0.944000</td>\n",
       "      <td>0.472000</td>\n",
       "      <td>0.3320</td>\n",
       "      <td>0.4880</td>\n",
       "      <td>94.197</td>\n",
       "      <td>206800</td>\n",
       "    </tr>\n",
       "    <tr>\n",
       "      <th>4</th>\n",
       "      <td>0.542</td>\n",
       "      <td>0.693</td>\n",
       "      <td>-6.049</td>\n",
       "      <td>0.0344</td>\n",
       "      <td>0.057200</td>\n",
       "      <td>0.000146</td>\n",
       "      <td>0.1190</td>\n",
       "      <td>0.4210</td>\n",
       "      <td>95.003</td>\n",
       "      <td>258573</td>\n",
       "    </tr>\n",
       "    <tr>\n",
       "      <th>...</th>\n",
       "      <td>...</td>\n",
       "      <td>...</td>\n",
       "      <td>...</td>\n",
       "      <td>...</td>\n",
       "      <td>...</td>\n",
       "      <td>...</td>\n",
       "      <td>...</td>\n",
       "      <td>...</td>\n",
       "      <td>...</td>\n",
       "      <td>...</td>\n",
       "    </tr>\n",
       "    <tr>\n",
       "      <th>15218</th>\n",
       "      <td>0.493</td>\n",
       "      <td>0.442</td>\n",
       "      <td>-11.781</td>\n",
       "      <td>0.0325</td>\n",
       "      <td>0.823000</td>\n",
       "      <td>0.000579</td>\n",
       "      <td>0.1200</td>\n",
       "      <td>0.4420</td>\n",
       "      <td>96.919</td>\n",
       "      <td>272373</td>\n",
       "    </tr>\n",
       "    <tr>\n",
       "      <th>15219</th>\n",
       "      <td>0.397</td>\n",
       "      <td>0.925</td>\n",
       "      <td>-5.304</td>\n",
       "      <td>0.1090</td>\n",
       "      <td>0.124000</td>\n",
       "      <td>0.000000</td>\n",
       "      <td>0.2640</td>\n",
       "      <td>0.7470</td>\n",
       "      <td>92.505</td>\n",
       "      <td>155733</td>\n",
       "    </tr>\n",
       "    <tr>\n",
       "      <th>15220</th>\n",
       "      <td>0.477</td>\n",
       "      <td>0.879</td>\n",
       "      <td>-3.250</td>\n",
       "      <td>0.0421</td>\n",
       "      <td>0.000597</td>\n",
       "      <td>0.000004</td>\n",
       "      <td>0.3540</td>\n",
       "      <td>0.2560</td>\n",
       "      <td>109.985</td>\n",
       "      <td>308999</td>\n",
       "    </tr>\n",
       "    <tr>\n",
       "      <th>15221</th>\n",
       "      <td>0.751</td>\n",
       "      <td>0.938</td>\n",
       "      <td>-5.580</td>\n",
       "      <td>0.0561</td>\n",
       "      <td>0.154000</td>\n",
       "      <td>0.235000</td>\n",
       "      <td>0.0686</td>\n",
       "      <td>0.6560</td>\n",
       "      <td>126.014</td>\n",
       "      <td>311272</td>\n",
       "    </tr>\n",
       "    <tr>\n",
       "      <th>15222</th>\n",
       "      <td>0.751</td>\n",
       "      <td>0.765</td>\n",
       "      <td>-7.031</td>\n",
       "      <td>0.0682</td>\n",
       "      <td>0.010900</td>\n",
       "      <td>0.914000</td>\n",
       "      <td>0.1050</td>\n",
       "      <td>0.6760</td>\n",
       "      <td>140.004</td>\n",
       "      <td>389143</td>\n",
       "    </tr>\n",
       "  </tbody>\n",
       "</table>\n",
       "<p>15223 rows × 10 columns</p>\n",
       "</div>"
      ],
      "text/plain": [
       "       danceability  energy  loudness  speechiness  acousticness  \\\n",
       "0             0.483   0.303   -10.058       0.0429      0.694000   \n",
       "1             0.262   0.341    -8.496       0.0310      0.589000   \n",
       "2             0.594   0.251    -9.036       0.0295      0.630000   \n",
       "3             0.581   0.333   -14.209       0.0320      0.944000   \n",
       "4             0.542   0.693    -6.049       0.0344      0.057200   \n",
       "...             ...     ...       ...          ...           ...   \n",
       "15218         0.493   0.442   -11.781       0.0325      0.823000   \n",
       "15219         0.397   0.925    -5.304       0.1090      0.124000   \n",
       "15220         0.477   0.879    -3.250       0.0421      0.000597   \n",
       "15221         0.751   0.938    -5.580       0.0561      0.154000   \n",
       "15222         0.751   0.765    -7.031       0.0682      0.010900   \n",
       "\n",
       "       instrumentalness  liveness  valence    tempo  duration_ms  \n",
       "0              0.000000    0.1150   0.1390  133.406       240166  \n",
       "1              0.001540    0.1400   0.1810   99.913       262613  \n",
       "2              0.000003    0.1120   0.0502   98.819       270841  \n",
       "3              0.472000    0.3320   0.4880   94.197       206800  \n",
       "4              0.000146    0.1190   0.4210   95.003       258573  \n",
       "...                 ...       ...      ...      ...          ...  \n",
       "15218          0.000579    0.1200   0.4420   96.919       272373  \n",
       "15219          0.000000    0.2640   0.7470   92.505       155733  \n",
       "15220          0.000004    0.3540   0.2560  109.985       308999  \n",
       "15221          0.235000    0.0686   0.6560  126.014       311272  \n",
       "15222          0.914000    0.1050   0.6760  140.004       389143  \n",
       "\n",
       "[15223 rows x 10 columns]"
      ]
     },
     "execution_count": 213,
     "metadata": {},
     "output_type": "execute_result"
    }
   ],
   "source": [
    "df_audio"
   ]
  },
  {
   "cell_type": "code",
   "execution_count": 215,
   "metadata": {},
   "outputs": [
    {
     "name": "stdout",
     "output_type": "stream",
     "text": [
      "Accuracy: 0.5292868964524717\n"
     ]
    },
    {
     "name": "stderr",
     "output_type": "stream",
     "text": [
      "C:\\Users\\siriu\\anaconda3\\Lib\\site-packages\\sklearn\\linear_model\\_logistic.py:465: ConvergenceWarning: lbfgs failed to converge (status=1):\n",
      "STOP: TOTAL NO. OF ITERATIONS REACHED LIMIT.\n",
      "\n",
      "Increase the number of iterations (max_iter) or scale the data as shown in:\n",
      "    https://scikit-learn.org/stable/modules/preprocessing.html\n",
      "Please also refer to the documentation for alternative solver options:\n",
      "    https://scikit-learn.org/stable/modules/linear_model.html#logistic-regression\n",
      "  n_iter_i = _check_optimize_result(\n"
     ]
    }
   ],
   "source": [
    "X = df_mood.drop(columns = ['labels', 'track_id'])\n",
    "y = df_mood['labels']\n",
    "X_train, X_test, y_train, y_test = train_test_split(X, y, test_size=0.2, random_state=42)\n",
    "model = LogisticRegression(solver='lbfgs')\n",
    "model.fit(X_train, y_train)\n",
    "y_pred = model.predict(X_test)\n",
    "accuracy = accuracy_score(y_test, y_pred)\n",
    "print(f\"Accuracy: {accuracy}\")"
   ]
  },
  {
   "cell_type": "markdown",
   "metadata": {},
   "source": [
    "XGBoost"
   ]
  },
  {
   "cell_type": "code",
   "execution_count": 218,
   "metadata": {},
   "outputs": [
    {
     "name": "stdout",
     "output_type": "stream",
     "text": [
      "Accuracy: 0.9623120097862848\n"
     ]
    }
   ],
   "source": [
    "model = xgb.XGBClassifier()\n",
    "model.fit(X_train, y_train)\n",
    "y_pred = model.predict(X_test)\n",
    "accuracy = accuracy_score(y_test, y_pred)\n",
    "print(f\"Accuracy: {accuracy}\")"
   ]
  },
  {
   "cell_type": "markdown",
   "metadata": {},
   "source": [
    "XGBoost has higher accuracy"
   ]
  },
  {
   "cell_type": "code",
   "execution_count": 236,
   "metadata": {},
   "outputs": [],
   "source": [
    "#reordering features to match order of df_mood\n",
    "df_audio = df_audio[['duration_ms','danceability', 'energy', 'loudness', 'speechiness',\n",
    "           'acousticness', 'instrumentalness', 'liveness', 'valence', 'tempo']]"
   ]
  },
  {
   "cell_type": "code",
   "execution_count": 228,
   "metadata": {},
   "outputs": [],
   "source": [
    "y_pred = model.predict(df_audio)"
   ]
  },
  {
   "cell_type": "code",
   "execution_count": 230,
   "metadata": {},
   "outputs": [
    {
     "data": {
      "text/plain": [
       "array([0, 0, 0, ..., 2, 1, 2], dtype=int64)"
      ]
     },
     "execution_count": 230,
     "metadata": {},
     "output_type": "execute_result"
    }
   ],
   "source": [
    "y_pred"
   ]
  },
  {
   "cell_type": "code",
   "execution_count": 232,
   "metadata": {},
   "outputs": [],
   "source": [
    "df_with_lyrics['labels'] = y_pred"
   ]
  },
  {
   "cell_type": "code",
   "execution_count": 234,
   "metadata": {},
   "outputs": [
    {
     "data": {
      "text/html": [
       "<div>\n",
       "<style scoped>\n",
       "    .dataframe tbody tr th:only-of-type {\n",
       "        vertical-align: middle;\n",
       "    }\n",
       "\n",
       "    .dataframe tbody tr th {\n",
       "        vertical-align: top;\n",
       "    }\n",
       "\n",
       "    .dataframe thead th {\n",
       "        text-align: right;\n",
       "    }\n",
       "</style>\n",
       "<table border=\"1\" class=\"dataframe\">\n",
       "  <thead>\n",
       "    <tr style=\"text-align: right;\">\n",
       "      <th></th>\n",
       "      <th>artist_name</th>\n",
       "      <th>track_name</th>\n",
       "      <th>track_id</th>\n",
       "      <th>popularity</th>\n",
       "      <th>year</th>\n",
       "      <th>genre</th>\n",
       "      <th>danceability</th>\n",
       "      <th>energy</th>\n",
       "      <th>key</th>\n",
       "      <th>loudness</th>\n",
       "      <th>...</th>\n",
       "      <th>speechiness</th>\n",
       "      <th>acousticness</th>\n",
       "      <th>instrumentalness</th>\n",
       "      <th>liveness</th>\n",
       "      <th>valence</th>\n",
       "      <th>tempo</th>\n",
       "      <th>duration_ms</th>\n",
       "      <th>time_signature</th>\n",
       "      <th>lyrics</th>\n",
       "      <th>labels</th>\n",
       "    </tr>\n",
       "  </thead>\n",
       "  <tbody>\n",
       "    <tr>\n",
       "      <th>0</th>\n",
       "      <td>Jason Mraz</td>\n",
       "      <td>I Won't Give Up</td>\n",
       "      <td>53QF56cjZA9RTuuMZDrSA6</td>\n",
       "      <td>68</td>\n",
       "      <td>2012</td>\n",
       "      <td>acoustic</td>\n",
       "      <td>0.483</td>\n",
       "      <td>0.303</td>\n",
       "      <td>4</td>\n",
       "      <td>-10.058</td>\n",
       "      <td>...</td>\n",
       "      <td>0.0429</td>\n",
       "      <td>0.6940</td>\n",
       "      <td>0.000000</td>\n",
       "      <td>0.115</td>\n",
       "      <td>0.1390</td>\n",
       "      <td>133.406</td>\n",
       "      <td>240166</td>\n",
       "      <td>3</td>\n",
       "      <td>\\r\\n\\r\\nWhen I look into your eyes\\r\\nIt's lik...</td>\n",
       "      <td>0</td>\n",
       "    </tr>\n",
       "    <tr>\n",
       "      <th>1</th>\n",
       "      <td>Sara Bareilles</td>\n",
       "      <td>Stay</td>\n",
       "      <td>24xqELXbmKDFLKkR3271jb</td>\n",
       "      <td>37</td>\n",
       "      <td>2012</td>\n",
       "      <td>acoustic</td>\n",
       "      <td>0.262</td>\n",
       "      <td>0.341</td>\n",
       "      <td>2</td>\n",
       "      <td>-8.496</td>\n",
       "      <td>...</td>\n",
       "      <td>0.0310</td>\n",
       "      <td>0.5890</td>\n",
       "      <td>0.001540</td>\n",
       "      <td>0.140</td>\n",
       "      <td>0.1810</td>\n",
       "      <td>99.913</td>\n",
       "      <td>262613</td>\n",
       "      <td>3</td>\n",
       "      <td>\\r\\n\\r\\nSaturday, empty room, filled with peop...</td>\n",
       "      <td>0</td>\n",
       "    </tr>\n",
       "    <tr>\n",
       "      <th>2</th>\n",
       "      <td>Johnnyswim</td>\n",
       "      <td>Annie</td>\n",
       "      <td>6SU4bifjXJwueCHG8maEXz</td>\n",
       "      <td>34</td>\n",
       "      <td>2012</td>\n",
       "      <td>acoustic</td>\n",
       "      <td>0.594</td>\n",
       "      <td>0.251</td>\n",
       "      <td>4</td>\n",
       "      <td>-9.036</td>\n",
       "      <td>...</td>\n",
       "      <td>0.0295</td>\n",
       "      <td>0.6300</td>\n",
       "      <td>0.000003</td>\n",
       "      <td>0.112</td>\n",
       "      <td>0.0502</td>\n",
       "      <td>98.819</td>\n",
       "      <td>270841</td>\n",
       "      <td>4</td>\n",
       "      <td>\\r\\nThe carpet still holds the shape of your f...</td>\n",
       "      <td>0</td>\n",
       "    </tr>\n",
       "    <tr>\n",
       "      <th>3</th>\n",
       "      <td>Otis Spann</td>\n",
       "      <td>Someday (Electric)</td>\n",
       "      <td>5ZUxxja3WzBZUFF6P9M9HN</td>\n",
       "      <td>34</td>\n",
       "      <td>2012</td>\n",
       "      <td>acoustic</td>\n",
       "      <td>0.581</td>\n",
       "      <td>0.333</td>\n",
       "      <td>0</td>\n",
       "      <td>-14.209</td>\n",
       "      <td>...</td>\n",
       "      <td>0.0320</td>\n",
       "      <td>0.9440</td>\n",
       "      <td>0.472000</td>\n",
       "      <td>0.332</td>\n",
       "      <td>0.4880</td>\n",
       "      <td>94.197</td>\n",
       "      <td>206800</td>\n",
       "      <td>3</td>\n",
       "      <td>\\r\\nThe gypsy woman told my mother\\r\\nBefore I...</td>\n",
       "      <td>0</td>\n",
       "    </tr>\n",
       "    <tr>\n",
       "      <th>4</th>\n",
       "      <td>Green River Ordinance</td>\n",
       "      <td>New Day</td>\n",
       "      <td>7wT7EvhnZ1MygDBoRyO9z0</td>\n",
       "      <td>20</td>\n",
       "      <td>2012</td>\n",
       "      <td>acoustic</td>\n",
       "      <td>0.542</td>\n",
       "      <td>0.693</td>\n",
       "      <td>9</td>\n",
       "      <td>-6.049</td>\n",
       "      <td>...</td>\n",
       "      <td>0.0344</td>\n",
       "      <td>0.0572</td>\n",
       "      <td>0.000146</td>\n",
       "      <td>0.119</td>\n",
       "      <td>0.4210</td>\n",
       "      <td>95.003</td>\n",
       "      <td>258573</td>\n",
       "      <td>4</td>\n",
       "      <td>\\r\\n\\r\\nIn the city that never sleeps\\r\\nRestl...</td>\n",
       "      <td>1</td>\n",
       "    </tr>\n",
       "  </tbody>\n",
       "</table>\n",
       "<p>5 rows × 21 columns</p>\n",
       "</div>"
      ],
      "text/plain": [
       "             artist_name          track_name                track_id  \\\n",
       "0             Jason Mraz     I Won't Give Up  53QF56cjZA9RTuuMZDrSA6   \n",
       "1         Sara Bareilles                Stay  24xqELXbmKDFLKkR3271jb   \n",
       "2             Johnnyswim               Annie  6SU4bifjXJwueCHG8maEXz   \n",
       "3             Otis Spann  Someday (Electric)  5ZUxxja3WzBZUFF6P9M9HN   \n",
       "4  Green River Ordinance             New Day  7wT7EvhnZ1MygDBoRyO9z0   \n",
       "\n",
       "   popularity  year     genre  danceability  energy  key  loudness  ...  \\\n",
       "0          68  2012  acoustic         0.483   0.303    4   -10.058  ...   \n",
       "1          37  2012  acoustic         0.262   0.341    2    -8.496  ...   \n",
       "2          34  2012  acoustic         0.594   0.251    4    -9.036  ...   \n",
       "3          34  2012  acoustic         0.581   0.333    0   -14.209  ...   \n",
       "4          20  2012  acoustic         0.542   0.693    9    -6.049  ...   \n",
       "\n",
       "   speechiness  acousticness  instrumentalness  liveness  valence    tempo  \\\n",
       "0       0.0429        0.6940          0.000000     0.115   0.1390  133.406   \n",
       "1       0.0310        0.5890          0.001540     0.140   0.1810   99.913   \n",
       "2       0.0295        0.6300          0.000003     0.112   0.0502   98.819   \n",
       "3       0.0320        0.9440          0.472000     0.332   0.4880   94.197   \n",
       "4       0.0344        0.0572          0.000146     0.119   0.4210   95.003   \n",
       "\n",
       "   duration_ms  time_signature  \\\n",
       "0       240166               3   \n",
       "1       262613               3   \n",
       "2       270841               4   \n",
       "3       206800               3   \n",
       "4       258573               4   \n",
       "\n",
       "                                              lyrics labels  \n",
       "0  \\r\\n\\r\\nWhen I look into your eyes\\r\\nIt's lik...      0  \n",
       "1  \\r\\n\\r\\nSaturday, empty room, filled with peop...      0  \n",
       "2  \\r\\nThe carpet still holds the shape of your f...      0  \n",
       "3  \\r\\nThe gypsy woman told my mother\\r\\nBefore I...      0  \n",
       "4  \\r\\n\\r\\nIn the city that never sleeps\\r\\nRestl...      1  \n",
       "\n",
       "[5 rows x 21 columns]"
      ]
     },
     "execution_count": 234,
     "metadata": {},
     "output_type": "execute_result"
    }
   ],
   "source": [
    "df_with_lyrics.head()"
   ]
  },
  {
   "cell_type": "code",
   "execution_count": 19,
   "metadata": {
    "id": "V-tqVbyYh4tK"
   },
   "outputs": [],
   "source": [
    "def Normalize(df, features):\n",
    "    scaler = StandardScaler()\n",
    "    songs_scaled = scaler.fit_transform(df[features])\n",
    "    songs_scaled_df = pd.DataFrame(songs_scaled, columns=features)\n",
    "    return songs_scaled_df"
   ]
  },
  {
   "cell_type": "markdown",
   "metadata": {},
   "source": [
    "NLP with lyrics"
   ]
  },
  {
   "cell_type": "code",
   "execution_count": 20,
   "metadata": {},
   "outputs": [
    {
     "data": {
      "text/html": [
       "<div>\n",
       "<style scoped>\n",
       "    .dataframe tbody tr th:only-of-type {\n",
       "        vertical-align: middle;\n",
       "    }\n",
       "\n",
       "    .dataframe tbody tr th {\n",
       "        vertical-align: top;\n",
       "    }\n",
       "\n",
       "    .dataframe thead th {\n",
       "        text-align: right;\n",
       "    }\n",
       "</style>\n",
       "<table border=\"1\" class=\"dataframe\">\n",
       "  <thead>\n",
       "    <tr style=\"text-align: right;\">\n",
       "      <th></th>\n",
       "      <th>popularity</th>\n",
       "      <th>danceability</th>\n",
       "      <th>energy</th>\n",
       "      <th>key</th>\n",
       "      <th>loudness</th>\n",
       "      <th>mode</th>\n",
       "      <th>speechiness</th>\n",
       "      <th>acousticness</th>\n",
       "      <th>instrumentalness</th>\n",
       "      <th>liveness</th>\n",
       "      <th>valence</th>\n",
       "      <th>tempo</th>\n",
       "      <th>duration_ms</th>\n",
       "      <th>time_signature</th>\n",
       "    </tr>\n",
       "  </thead>\n",
       "  <tbody>\n",
       "    <tr>\n",
       "      <th>0</th>\n",
       "      <td>-0.701717</td>\n",
       "      <td>0.630108</td>\n",
       "      <td>0.075031</td>\n",
       "      <td>1.321853</td>\n",
       "      <td>0.325196</td>\n",
       "      <td>-1.272343</td>\n",
       "      <td>-0.504821</td>\n",
       "      <td>-0.173579</td>\n",
       "      <td>-0.489350</td>\n",
       "      <td>-0.265923</td>\n",
       "      <td>0.531880</td>\n",
       "      <td>-0.110526</td>\n",
       "      <td>-0.058745</td>\n",
       "      <td>0.240518</td>\n",
       "    </tr>\n",
       "    <tr>\n",
       "      <th>1</th>\n",
       "      <td>-0.523047</td>\n",
       "      <td>0.748269</td>\n",
       "      <td>-1.070377</td>\n",
       "      <td>0.203804</td>\n",
       "      <td>-0.141532</td>\n",
       "      <td>0.785952</td>\n",
       "      <td>3.900983</td>\n",
       "      <td>1.525671</td>\n",
       "      <td>-0.489359</td>\n",
       "      <td>0.315638</td>\n",
       "      <td>0.405777</td>\n",
       "      <td>-0.108640</td>\n",
       "      <td>2.154023</td>\n",
       "      <td>-1.693698</td>\n",
       "    </tr>\n",
       "    <tr>\n",
       "      <th>2</th>\n",
       "      <td>-0.523047</td>\n",
       "      <td>-0.675291</td>\n",
       "      <td>1.324219</td>\n",
       "      <td>-0.355220</td>\n",
       "      <td>-0.668274</td>\n",
       "      <td>-1.272343</td>\n",
       "      <td>4.009186</td>\n",
       "      <td>1.188210</td>\n",
       "      <td>-0.489359</td>\n",
       "      <td>4.221220</td>\n",
       "      <td>-1.520172</td>\n",
       "      <td>-1.283537</td>\n",
       "      <td>1.292181</td>\n",
       "      <td>0.240518</td>\n",
       "    </tr>\n",
       "    <tr>\n",
       "      <th>3</th>\n",
       "      <td>-1.535513</td>\n",
       "      <td>0.748269</td>\n",
       "      <td>-1.769922</td>\n",
       "      <td>-0.634733</td>\n",
       "      <td>-1.740957</td>\n",
       "      <td>-1.272343</td>\n",
       "      <td>3.979676</td>\n",
       "      <td>1.227033</td>\n",
       "      <td>-0.489359</td>\n",
       "      <td>-0.482583</td>\n",
       "      <td>0.191782</td>\n",
       "      <td>-0.183184</td>\n",
       "      <td>0.366578</td>\n",
       "      <td>-1.693698</td>\n",
       "    </tr>\n",
       "    <tr>\n",
       "      <th>4</th>\n",
       "      <td>-0.463490</td>\n",
       "      <td>-0.709051</td>\n",
       "      <td>1.366499</td>\n",
       "      <td>0.483316</td>\n",
       "      <td>-0.691505</td>\n",
       "      <td>0.785952</td>\n",
       "      <td>4.004267</td>\n",
       "      <td>1.247938</td>\n",
       "      <td>-0.489359</td>\n",
       "      <td>4.101486</td>\n",
       "      <td>-1.498773</td>\n",
       "      <td>-1.227456</td>\n",
       "      <td>1.638976</td>\n",
       "      <td>0.240518</td>\n",
       "    </tr>\n",
       "  </tbody>\n",
       "</table>\n",
       "</div>"
      ],
      "text/plain": [
       "   popularity  danceability    energy       key  loudness      mode  \\\n",
       "0   -0.701717      0.630108  0.075031  1.321853  0.325196 -1.272343   \n",
       "1   -0.523047      0.748269 -1.070377  0.203804 -0.141532  0.785952   \n",
       "2   -0.523047     -0.675291  1.324219 -0.355220 -0.668274 -1.272343   \n",
       "3   -1.535513      0.748269 -1.769922 -0.634733 -1.740957 -1.272343   \n",
       "4   -0.463490     -0.709051  1.366499  0.483316 -0.691505  0.785952   \n",
       "\n",
       "   speechiness  acousticness  instrumentalness  liveness   valence     tempo  \\\n",
       "0    -0.504821     -0.173579         -0.489350 -0.265923  0.531880 -0.110526   \n",
       "1     3.900983      1.525671         -0.489359  0.315638  0.405777 -0.108640   \n",
       "2     4.009186      1.188210         -0.489359  4.221220 -1.520172 -1.283537   \n",
       "3     3.979676      1.227033         -0.489359 -0.482583  0.191782 -0.183184   \n",
       "4     4.004267      1.247938         -0.489359  4.101486 -1.498773 -1.227456   \n",
       "\n",
       "   duration_ms  time_signature  \n",
       "0    -0.058745        0.240518  \n",
       "1     2.154023       -1.693698  \n",
       "2     1.292181        0.240518  \n",
       "3     0.366578       -1.693698  \n",
       "4     1.638976        0.240518  "
      ]
     },
     "execution_count": 20,
     "metadata": {},
     "output_type": "execute_result"
    }
   ],
   "source": [
    "features = ['popularity', \n",
    "           'danceability', 'energy', 'key', 'loudness', 'mode', 'speechiness',\n",
    "           'acousticness', 'instrumentalness', 'liveness', 'valence', 'tempo',\n",
    "           'duration_ms', 'time_signature']\n",
    "lyrics_scaled_df = Normalize(new_df, features)\n",
    "lyrics_scaled_df.head(5)"
   ]
  },
  {
   "cell_type": "code",
   "execution_count": 21,
   "metadata": {},
   "outputs": [
    {
     "data": {
      "text/plain": [
       "(10935, 14)"
      ]
     },
     "execution_count": 21,
     "metadata": {},
     "output_type": "execute_result"
    }
   ],
   "source": [
    "less_lyrics_scaled_df = Normalize(df_with_lyrics, features)\n",
    "less_lyrics_scaled_df.shape"
   ]
  },
  {
   "cell_type": "code",
   "execution_count": 22,
   "metadata": {},
   "outputs": [],
   "source": [
    "def create_description(df):\n",
    "    df['description'] = (\n",
    "        \"Track: \" + df['track_name'].fillna('') + \n",
    "        \", Artist: \" + df['artist_name'].fillna('') + \n",
    "        \", Genre: \" + df['genre'].fillna('')\n",
    "    )\n",
    "    return df\n",
    "    "
   ]
  },
  {
   "cell_type": "code",
   "execution_count": 23,
   "metadata": {},
   "outputs": [],
   "source": [
    "model = SentenceTransformer('all-MiniLM-L6-v2') "
   ]
  },
  {
   "cell_type": "code",
   "execution_count": 24,
   "metadata": {},
   "outputs": [],
   "source": [
    "def get_embedding(lyrics):\n",
    "    return model.encode([lyrics])[0]"
   ]
  },
  {
   "cell_type": "code",
   "execution_count": 25,
   "metadata": {},
   "outputs": [],
   "source": [
    "from tqdm import tqdm\n",
    "def compute_all_lyrics_embeddings(lyrics_list):\n",
    "    embeddings = []\n",
    "    for lyrics in tqdm(lyrics_list, desc=\"Embedding lyrics\"):\n",
    "        embeddings.append(get_embedding(lyrics))\n",
    "    return np.array(embeddings)"
   ]
  },
  {
   "cell_type": "code",
   "execution_count": 26,
   "metadata": {},
   "outputs": [
    {
     "name": "stderr",
     "output_type": "stream",
     "text": [
      "Embedding lyrics: 100%|██████████████████████████████████████████████████████████| 10935/10935 [03:25<00:00, 53.25it/s]\n"
     ]
    }
   ],
   "source": [
    "all_lyrics_embeddings = compute_all_lyrics_embeddings(df_with_lyrics['lyrics'])"
   ]
  },
  {
   "cell_type": "code",
   "execution_count": 27,
   "metadata": {},
   "outputs": [],
   "source": [
    "df_with_lyrics = create_description(df_with_lyrics)"
   ]
  },
  {
   "cell_type": "code",
   "execution_count": 28,
   "metadata": {},
   "outputs": [],
   "source": [
    "def compute_all_description_embeddings(list):\n",
    "    embeddings = []\n",
    "    for desc in tqdm(list, desc=\"Embedding description\"):\n",
    "        embeddings.append(get_embedding(desc))\n",
    "    return np.array(embeddings)"
   ]
  },
  {
   "cell_type": "code",
   "execution_count": 29,
   "metadata": {},
   "outputs": [
    {
     "name": "stderr",
     "output_type": "stream",
     "text": [
      "Embedding description: 100%|████████████████████████████████████████████████████| 10935/10935 [01:22<00:00, 132.84it/s]\n"
     ]
    }
   ],
   "source": [
    "all_description_embeddings = compute_all_description_embeddings(df_with_lyrics['description'])"
   ]
  },
  {
   "cell_type": "code",
   "execution_count": 30,
   "metadata": {},
   "outputs": [
    {
     "name": "stdout",
     "output_type": "stream",
     "text": [
      "(10935, 14)\n",
      "(10935, 21)\n",
      "(10935, 384)\n"
     ]
    }
   ],
   "source": [
    "#testing\n",
    "print(less_lyrics_scaled_df.shape)\n",
    "print(df_with_lyrics.shape)\n",
    "print(all_lyrics_embeddings.shape)"
   ]
  },
  {
   "cell_type": "code",
   "execution_count": 31,
   "metadata": {},
   "outputs": [],
   "source": [
    "#!pip install sentence-transformers"
   ]
  },
  {
   "cell_type": "code",
   "execution_count": 32,
   "metadata": {},
   "outputs": [
    {
     "data": {
      "text/plain": [
       "Index(['artist_name', 'track_name', 'track_id', 'popularity', 'year', 'genre',\n",
       "       'danceability', 'energy', 'key', 'loudness', 'mode', 'speechiness',\n",
       "       'acousticness', 'instrumentalness', 'liveness', 'valence', 'tempo',\n",
       "       'duration_ms', 'time_signature', 'lyrics', 'description'],\n",
       "      dtype='object')"
      ]
     },
     "execution_count": 32,
     "metadata": {},
     "output_type": "execute_result"
    }
   ],
   "source": [
    "df_with_lyrics.columns"
   ]
  },
  {
   "cell_type": "markdown",
   "metadata": {
    "id": "QjfWJxuXRVh1"
   },
   "source": [
    "# Kmeans"
   ]
  },
  {
   "cell_type": "code",
   "execution_count": 33,
   "metadata": {
    "id": "fHfJXlrEjqyK"
   },
   "outputs": [],
   "source": [
    "def optimise_k_means(data, max_k):\n",
    "    means = []\n",
    "    inertias = []\n",
    "\n",
    "    for k in range(1, max_k+1):\n",
    "        print(f\"Testing k={k}\")\n",
    "        kmeans = KMeans(n_clusters=k, n_init=max_k)\n",
    "        kmeans.fit(data)\n",
    "\n",
    "        means.append(k)\n",
    "        inertias.append(kmeans.inertia_)\n",
    "\n",
    "    plt.figure(figsize=(15, 8)) \n",
    "    plt.title('Elbow Method')\n",
    "    plt.plot(means, inertias, 'o-')\n",
    "    plt.xlabel('Number of Clusters')\n",
    "    plt.ylabel('WCSS')\n",
    "    plt.grid(True)\n",
    "    plt.show()"
   ]
  },
  {
   "cell_type": "code",
   "execution_count": 34,
   "metadata": {
    "colab": {
     "base_uri": "https://localhost:8080/",
     "height": 1000
    },
    "id": "MPYCXcAsjy0R",
    "outputId": "14ce52ce-11d2-4975-ef04-8917d2793bd2"
   },
   "outputs": [],
   "source": [
    "# optimise_k_means(songs_scaled_df, 50)"
   ]
  },
  {
   "cell_type": "code",
   "execution_count": 35,
   "metadata": {
    "id": "ygEjhfa0ClR9"
   },
   "outputs": [
    {
     "name": "stdout",
     "output_type": "stream",
     "text": [
      "Testing k=1\n",
      "Testing k=2\n",
      "Testing k=3\n",
      "Testing k=4\n",
      "Testing k=5\n",
      "Testing k=6\n",
      "Testing k=7\n",
      "Testing k=8\n",
      "Testing k=9\n",
      "Testing k=10\n",
      "Testing k=11\n",
      "Testing k=12\n",
      "Testing k=13\n",
      "Testing k=14\n",
      "Testing k=15\n",
      "Testing k=16\n",
      "Testing k=17\n",
      "Testing k=18\n",
      "Testing k=19\n",
      "Testing k=20\n",
      "Testing k=21\n",
      "Testing k=22\n",
      "Testing k=23\n",
      "Testing k=24\n",
      "Testing k=25\n",
      "Testing k=26\n",
      "Testing k=27\n",
      "Testing k=28\n",
      "Testing k=29\n",
      "Testing k=30\n"
     ]
    },
    {
     "data": {
      "image/png": "[encoded data removed]",
      "text/plain": [
       "<Figure size 1500x800 with 1 Axes>"
      ]
     },
     "metadata": {},
     "output_type": "display_data"
    }
   ],
   "source": [
    "optimise_k_means(less_lyrics_scaled_df, 30)"
   ]
  },
  {
   "cell_type": "code",
   "execution_count": 36,
   "metadata": {},
   "outputs": [
    {
     "data": {
      "text/plain": [
       "80"
      ]
     },
     "execution_count": 36,
     "metadata": {},
     "output_type": "execute_result"
    }
   ],
   "source": [
    "df_with_lyrics['genre'].nunique()"
   ]
  },
  {
   "cell_type": "code",
   "execution_count": 37,
   "metadata": {},
   "outputs": [],
   "source": [
    "def k_score(data, max_k):\n",
    "    means = []\n",
    "    inertias = []\n",
    "\n",
    "    for k in range(2, max_k+1):\n",
    "        print(f\"Testing k={k}\")\n",
    "        kmeans = KMeans(n_clusters=k, n_init=max_k)\n",
    "        labels = kmeans.fit_predict(data)\n",
    "\n",
    "        score = silhouette_score(data, labels)\n",
    "        print(f\"k={k}, Silhouette Score={score:.4f}\")"
   ]
  },
  {
   "cell_type": "code",
   "execution_count": 38,
   "metadata": {},
   "outputs": [
    {
     "name": "stdout",
     "output_type": "stream",
     "text": [
      "Testing k=2\n",
      "k=2, Silhouette Score=0.2374\n",
      "Testing k=3\n",
      "k=3, Silhouette Score=0.1119\n",
      "Testing k=4\n",
      "k=4, Silhouette Score=0.1144\n",
      "Testing k=5\n",
      "k=5, Silhouette Score=0.1206\n",
      "Testing k=6\n",
      "k=6, Silhouette Score=0.1191\n",
      "Testing k=7\n",
      "k=7, Silhouette Score=0.1220\n",
      "Testing k=8\n",
      "k=8, Silhouette Score=0.1285\n",
      "Testing k=9\n",
      "k=9, Silhouette Score=0.1182\n",
      "Testing k=10\n",
      "k=10, Silhouette Score=0.1215\n",
      "Testing k=11\n",
      "k=11, Silhouette Score=0.1116\n",
      "Testing k=12\n",
      "k=12, Silhouette Score=0.1125\n",
      "Testing k=13\n",
      "k=13, Silhouette Score=0.1067\n",
      "Testing k=14\n",
      "k=14, Silhouette Score=0.1143\n",
      "Testing k=15\n",
      "k=15, Silhouette Score=0.1130\n",
      "Testing k=16\n",
      "k=16, Silhouette Score=0.1061\n",
      "Testing k=17\n",
      "k=17, Silhouette Score=0.1042\n",
      "Testing k=18\n",
      "k=18, Silhouette Score=0.1122\n",
      "Testing k=19\n",
      "k=19, Silhouette Score=0.1018\n",
      "Testing k=20\n",
      "k=20, Silhouette Score=0.0986\n",
      "Testing k=21\n",
      "k=21, Silhouette Score=0.1003\n",
      "Testing k=22\n",
      "k=22, Silhouette Score=0.1022\n",
      "Testing k=23\n",
      "k=23, Silhouette Score=0.0995\n",
      "Testing k=24\n",
      "k=24, Silhouette Score=0.1021\n",
      "Testing k=25\n",
      "k=25, Silhouette Score=0.0991\n",
      "Testing k=26\n",
      "k=26, Silhouette Score=0.0955\n",
      "Testing k=27\n",
      "k=27, Silhouette Score=0.1011\n",
      "Testing k=28\n",
      "k=28, Silhouette Score=0.0964\n",
      "Testing k=29\n",
      "k=29, Silhouette Score=0.0966\n",
      "Testing k=30\n",
      "k=30, Silhouette Score=0.0968\n"
     ]
    }
   ],
   "source": [
    "k_score(less_lyrics_scaled_df, 30)"
   ]
  },
  {
   "cell_type": "markdown",
   "metadata": {},
   "source": [
    "Silhouette Score drops gradually after k=6, but stays above 0.2 until about k=15. That range (e.g., k=6 to k=12) could give  decent separation while offering enough diversity for personalized recommendations."
   ]
  },
  {
   "cell_type": "code",
   "execution_count": 39,
   "metadata": {
    "colab": {
     "base_uri": "https://localhost:8080/",
     "height": 449
    },
    "id": "G0mQfOlHj35X",
    "outputId": "1ec55824-c751-49a7-81f5-7e54da14720d"
   },
   "outputs": [],
   "source": [
    "kmeans = KMeans(n_clusters= 10, n_init='auto')\n",
    "kmeans.fit(less_lyrics_scaled_df)\n",
    "\n",
    "df_with_lyrics['Cluster'] = kmeans.labels_\n",
    "less_lyrics_scaled_df['Cluster'] = kmeans.labels_"
   ]
  },
  {
   "cell_type": "code",
   "execution_count": 40,
   "metadata": {
    "colab": {
     "base_uri": "https://localhost:8080/",
     "height": 472
    },
    "id": "2HlTGkCqkTWv",
    "outputId": "61d3925e-3242-4773-9d3b-b861f18354c8"
   },
   "outputs": [
    {
     "data": {
      "image/png": "[encoded data removed]",
      "text/plain": [
       "<Figure size 640x480 with 1 Axes>"
      ]
     },
     "metadata": {},
     "output_type": "display_data"
    }
   ],
   "source": [
    "pca = PCA(n_components=2)\n",
    "reduced_features = pca.fit_transform(less_lyrics_scaled_df.drop('Cluster', axis=1)) # Exclude the cluster labels\n",
    "\n",
    "less_lyrics_scaled_df['pca_1'] = reduced_features[:, 0]\n",
    "less_lyrics_scaled_df['pca_2'] = reduced_features[:, 1]\n",
    "\n",
    "plt.scatter(less_lyrics_scaled_df['pca_1'], less_lyrics_scaled_df['pca_2'], c=less_lyrics_scaled_df['Cluster'])\n",
    "plt.title('KMeans Clustering Results')\n",
    "plt.xlabel('Principal Component 1')\n",
    "plt.ylabel('Principal Component 2')\n",
    "plt.show()"
   ]
  },
  {
   "cell_type": "code",
   "execution_count": 41,
   "metadata": {},
   "outputs": [
    {
     "data": {
      "text/plain": [
       "(5, 17)"
      ]
     },
     "execution_count": 41,
     "metadata": {},
     "output_type": "execute_result"
    }
   ],
   "source": [
    "import numpy as np\n",
    "from sklearn.metrics.pairwise import euclidean_distances\n",
    "df_pca = less_lyrics_scaled_df.copy()\n",
    "df_pca = df_pca.reset_index(drop=True)\n",
    "\n",
    "# Assuming 'df_pca' is the DataFrame containing PCA1 and PCA2\n",
    "pca_centroid = df_pca.mean(axis=0)  # Centroid of the PCA data\n",
    "\n",
    "# Calculate the Euclidean distance of each point to the centroid\n",
    "distances = np.linalg.norm(df_pca - pca_centroid, axis=1)\n",
    "\n",
    "# Identify the indices of the farthest points (outliers)\n",
    "outlier_indices = np.argsort(distances)[-5:]  # Top 5 outliers\n",
    "outlier_data = df_pca.iloc[outlier_indices]\n",
    "outlier_data.shape"
   ]
  },
  {
   "cell_type": "code",
   "execution_count": 42,
   "metadata": {},
   "outputs": [
    {
     "data": {
      "text/html": [
       "<div>\n",
       "<style scoped>\n",
       "    .dataframe tbody tr th:only-of-type {\n",
       "        vertical-align: middle;\n",
       "    }\n",
       "\n",
       "    .dataframe tbody tr th {\n",
       "        vertical-align: top;\n",
       "    }\n",
       "\n",
       "    .dataframe thead th {\n",
       "        text-align: right;\n",
       "    }\n",
       "</style>\n",
       "<table border=\"1\" class=\"dataframe\">\n",
       "  <thead>\n",
       "    <tr style=\"text-align: right;\">\n",
       "      <th></th>\n",
       "      <th>popularity</th>\n",
       "      <th>danceability</th>\n",
       "      <th>energy</th>\n",
       "      <th>key</th>\n",
       "      <th>loudness</th>\n",
       "      <th>mode</th>\n",
       "      <th>speechiness</th>\n",
       "      <th>acousticness</th>\n",
       "      <th>instrumentalness</th>\n",
       "      <th>liveness</th>\n",
       "      <th>valence</th>\n",
       "      <th>tempo</th>\n",
       "      <th>duration_ms</th>\n",
       "      <th>time_signature</th>\n",
       "      <th>Cluster</th>\n",
       "      <th>pca_1</th>\n",
       "      <th>pca_2</th>\n",
       "    </tr>\n",
       "  </thead>\n",
       "  <tbody>\n",
       "    <tr>\n",
       "      <th>695</th>\n",
       "      <td>-0.711390</td>\n",
       "      <td>-3.000823</td>\n",
       "      <td>-2.255688</td>\n",
       "      <td>-1.488155</td>\n",
       "      <td>-2.439776</td>\n",
       "      <td>0.793816</td>\n",
       "      <td>-0.503356</td>\n",
       "      <td>1.456314</td>\n",
       "      <td>2.160106</td>\n",
       "      <td>-0.705133</td>\n",
       "      <td>-1.661654</td>\n",
       "      <td>-1.414381</td>\n",
       "      <td>14.839370</td>\n",
       "      <td>0.206619</td>\n",
       "      <td>7</td>\n",
       "      <td>-7.166546</td>\n",
       "      <td>-6.224261</td>\n",
       "    </tr>\n",
       "    <tr>\n",
       "      <th>722</th>\n",
       "      <td>-1.323304</td>\n",
       "      <td>-2.447623</td>\n",
       "      <td>-1.894047</td>\n",
       "      <td>-0.371177</td>\n",
       "      <td>-1.927494</td>\n",
       "      <td>-1.259739</td>\n",
       "      <td>-0.467287</td>\n",
       "      <td>1.977229</td>\n",
       "      <td>1.909982</td>\n",
       "      <td>-0.542697</td>\n",
       "      <td>-1.657602</td>\n",
       "      <td>-1.116235</td>\n",
       "      <td>15.417281</td>\n",
       "      <td>-2.204666</td>\n",
       "      <td>7</td>\n",
       "      <td>-7.126426</td>\n",
       "      <td>-6.711862</td>\n",
       "    </tr>\n",
       "    <tr>\n",
       "      <th>108</th>\n",
       "      <td>-1.391295</td>\n",
       "      <td>-2.459306</td>\n",
       "      <td>-2.084837</td>\n",
       "      <td>-1.488155</td>\n",
       "      <td>-2.739368</td>\n",
       "      <td>0.793816</td>\n",
       "      <td>-0.389515</td>\n",
       "      <td>1.784521</td>\n",
       "      <td>1.596536</td>\n",
       "      <td>-0.837617</td>\n",
       "      <td>-1.645041</td>\n",
       "      <td>-1.926524</td>\n",
       "      <td>15.981506</td>\n",
       "      <td>0.206619</td>\n",
       "      <td>7</td>\n",
       "      <td>-7.332161</td>\n",
       "      <td>-6.346169</td>\n",
       "    </tr>\n",
       "    <tr>\n",
       "      <th>550</th>\n",
       "      <td>-0.099477</td>\n",
       "      <td>-2.506039</td>\n",
       "      <td>-0.212909</td>\n",
       "      <td>0.745801</td>\n",
       "      <td>-3.117646</td>\n",
       "      <td>0.793816</td>\n",
       "      <td>1.074642</td>\n",
       "      <td>-0.910898</td>\n",
       "      <td>1.314751</td>\n",
       "      <td>0.874301</td>\n",
       "      <td>-1.681104</td>\n",
       "      <td>-0.363573</td>\n",
       "      <td>18.875221</td>\n",
       "      <td>0.206619</td>\n",
       "      <td>7</td>\n",
       "      <td>-5.048159</td>\n",
       "      <td>-9.202332</td>\n",
       "    </tr>\n",
       "    <tr>\n",
       "      <th>1345</th>\n",
       "      <td>-1.799237</td>\n",
       "      <td>-0.181080</td>\n",
       "      <td>0.334439</td>\n",
       "      <td>0.187312</td>\n",
       "      <td>-0.160066</td>\n",
       "      <td>-1.259739</td>\n",
       "      <td>-0.494339</td>\n",
       "      <td>1.862808</td>\n",
       "      <td>2.226594</td>\n",
       "      <td>2.740591</td>\n",
       "      <td>-0.521804</td>\n",
       "      <td>-0.425232</td>\n",
       "      <td>37.923721</td>\n",
       "      <td>-2.204666</td>\n",
       "      <td>7</td>\n",
       "      <td>-6.697268</td>\n",
       "      <td>-16.844948</td>\n",
       "    </tr>\n",
       "  </tbody>\n",
       "</table>\n",
       "</div>"
      ],
      "text/plain": [
       "      popularity  danceability    energy       key  loudness      mode  \\\n",
       "695    -0.711390     -3.000823 -2.255688 -1.488155 -2.439776  0.793816   \n",
       "722    -1.323304     -2.447623 -1.894047 -0.371177 -1.927494 -1.259739   \n",
       "108    -1.391295     -2.459306 -2.084837 -1.488155 -2.739368  0.793816   \n",
       "550    -0.099477     -2.506039 -0.212909  0.745801 -3.117646  0.793816   \n",
       "1345   -1.799237     -0.181080  0.334439  0.187312 -0.160066 -1.259739   \n",
       "\n",
       "      speechiness  acousticness  instrumentalness  liveness   valence  \\\n",
       "695     -0.503356      1.456314          2.160106 -0.705133 -1.661654   \n",
       "722     -0.467287      1.977229          1.909982 -0.542697 -1.657602   \n",
       "108     -0.389515      1.784521          1.596536 -0.837617 -1.645041   \n",
       "550      1.074642     -0.910898          1.314751  0.874301 -1.681104   \n",
       "1345    -0.494339      1.862808          2.226594  2.740591 -0.521804   \n",
       "\n",
       "         tempo  duration_ms  time_signature  Cluster     pca_1      pca_2  \n",
       "695  -1.414381    14.839370        0.206619        7 -7.166546  -6.224261  \n",
       "722  -1.116235    15.417281       -2.204666        7 -7.126426  -6.711862  \n",
       "108  -1.926524    15.981506        0.206619        7 -7.332161  -6.346169  \n",
       "550  -0.363573    18.875221        0.206619        7 -5.048159  -9.202332  \n",
       "1345 -0.425232    37.923721       -2.204666        7 -6.697268 -16.844948  "
      ]
     },
     "execution_count": 42,
     "metadata": {},
     "output_type": "execute_result"
    }
   ],
   "source": [
    "outlier_data"
   ]
  },
  {
   "cell_type": "code",
   "execution_count": 43,
   "metadata": {},
   "outputs": [],
   "source": [
    "df_pca = df_pca.drop(df_pca.index[outlier_indices])\n",
    "df_full_pca = df_with_lyrics.drop(outlier_indices)"
   ]
  },
  {
   "cell_type": "code",
   "execution_count": 44,
   "metadata": {},
   "outputs": [
    {
     "data": {
      "text/plain": [
       "(10930, 17)"
      ]
     },
     "execution_count": 44,
     "metadata": {},
     "output_type": "execute_result"
    }
   ],
   "source": [
    "df_pca.shape"
   ]
  },
  {
   "cell_type": "code",
   "execution_count": 45,
   "metadata": {},
   "outputs": [
    {
     "data": {
      "text/plain": [
       "(10930, 22)"
      ]
     },
     "execution_count": 45,
     "metadata": {},
     "output_type": "execute_result"
    }
   ],
   "source": [
    "df_full_pca.shape"
   ]
  },
  {
   "cell_type": "code",
   "execution_count": 46,
   "metadata": {},
   "outputs": [],
   "source": [
    "kmeans = KMeans(n_clusters= 10, n_init='auto')\n",
    "kmeans.fit(df_pca)\n",
    "\n",
    "df_full_pca['Cluster'] = kmeans.labels_\n",
    "df_pca['Cluster'] = kmeans.labels_"
   ]
  },
  {
   "cell_type": "code",
   "execution_count": 47,
   "metadata": {},
   "outputs": [
    {
     "data": {
      "image/png": "[encoded data removed]",
      "text/plain": [
       "<Figure size 640x480 with 1 Axes>"
      ]
     },
     "metadata": {},
     "output_type": "display_data"
    }
   ],
   "source": [
    "pca = PCA(n_components=2)\n",
    "reduced_features = pca.fit_transform(df_pca.drop('Cluster', axis=1)) # Exclude the cluster labels\n",
    "\n",
    "df_pca['pca_1'] = reduced_features[:, 0]\n",
    "df_pca['pca_2'] = reduced_features[:, 1]\n",
    "\n",
    "plt.scatter(df_pca['pca_1'], df_pca['pca_2'], c=df_pca['Cluster'])\n",
    "plt.title('KMeans Clustering Results using PCA')\n",
    "plt.xlabel('Principal Component 1')\n",
    "plt.ylabel('Principal Component 2')\n",
    "plt.show()"
   ]
  },
  {
   "cell_type": "code",
   "execution_count": 48,
   "metadata": {
    "id": "r0L_EOUHkbfb"
   },
   "outputs": [],
   "source": [
    "def find_song_recommendation(track_name, artist_name, df):\n",
    "    try:\n",
    "        track_index = df[(df['track_name'].str.lower() == track_name.lower()) & (df['artist_name'].str.lower() == artist_name.lower())].index[0]\n",
    "    except IndexError:\n",
    "        print('Track name does not exist in the dataset')\n",
    "        return None\n",
    "\n",
    "    cluster = df.loc[track_index]['Cluster']\n",
    "\n",
    "    filter = (df['Cluster'] == cluster)\n",
    "\n",
    "    filtered_df = df[filter]\n",
    "\n",
    "    for i in range(5):\n",
    "        recommendation = filtered_df.sample()\n",
    "        print(recommendation.iloc[0]['track_name'] + ' by ' + recommendation.iloc[0]['artist_name'])"
   ]
  },
  {
   "cell_type": "code",
   "execution_count": 49,
   "metadata": {
    "colab": {
     "base_uri": "https://localhost:8080/"
    },
    "id": "uJhCtWfvlnwZ",
    "outputId": "dbfac34a-2113-483a-9db3-08e51cafad2f"
   },
   "outputs": [
    {
     "name": "stdin",
     "output_type": "stream",
     "text": [
      "Enter song name,artist name:  i won't give up,jason mraz\n"
     ]
    },
    {
     "name": "stdout",
     "output_type": "stream",
     "text": [
      "Don't You Cry For Me by Cobi\n",
      "One Last Time - 44 Remix by Christopher Jackson\n",
      "Phone Call to God by Brett Eldredge\n",
      "Brace (feat. Rainsford) by Twin Shadow\n",
      "Love On Top by Hailey Tuck\n"
     ]
    }
   ],
   "source": [
    "song = input(\"Enter song name,artist name: \")\n",
    "song_split = song.split(',')\n",
    "song_name = song_split[0]\n",
    "artist_name = song_split[1]\n",
    "find_song_recommendation(song_name, artist_name, df_full_pca)"
   ]
  },
  {
   "cell_type": "markdown",
   "metadata": {
    "id": "x5NcGxCxFa0F"
   },
   "source": [
    "# K Nearest Neighbors"
   ]
  },
  {
   "cell_type": "code",
   "execution_count": 50,
   "metadata": {
    "id": "oYHbev72FZ5N"
   },
   "outputs": [],
   "source": [
    "audio_features = ['danceability', 'energy', 'key', 'loudness', 'mode', 'speechiness',\n",
    "       'acousticness', 'instrumentalness', 'liveness', 'valence', 'tempo',\n",
    "       'duration_ms', 'time_signature']\n"
   ]
  },
  {
   "cell_type": "code",
   "execution_count": 51,
   "metadata": {
    "id": "5MLlXYgKHBvv"
   },
   "outputs": [
    {
     "data": {
      "text/html": [
       "<style>#sk-container-id-1 {\n",
       "  /* Definition of color scheme common for light and dark mode */\n",
       "  --sklearn-color-text: #000;\n",
       "  --sklearn-color-text-muted: #666;\n",
       "  --sklearn-color-line: gray;\n",
       "  /* Definition of color scheme for unfitted estimators */\n",
       "  --sklearn-color-unfitted-level-0: #fff5e6;\n",
       "  --sklearn-color-unfitted-level-1: #f6e4d2;\n",
       "  --sklearn-color-unfitted-level-2: #ffe0b3;\n",
       "  --sklearn-color-unfitted-level-3: chocolate;\n",
       "  /* Definition of color scheme for fitted estimators */\n",
       "  --sklearn-color-fitted-level-0: #f0f8ff;\n",
       "  --sklearn-color-fitted-level-1: #d4ebff;\n",
       "  --sklearn-color-fitted-level-2: #b3dbfd;\n",
       "  --sklearn-color-fitted-level-3: cornflowerblue;\n",
       "\n",
       "  /* Specific color for light theme */\n",
       "  --sklearn-color-text-on-default-background: var(--sg-text-color, var(--theme-code-foreground, var(--jp-content-font-color1, black)));\n",
       "  --sklearn-color-background: var(--sg-background-color, var(--theme-background, var(--jp-layout-color0, white)));\n",
       "  --sklearn-color-border-box: var(--sg-text-color, var(--theme-code-foreground, var(--jp-content-font-color1, black)));\n",
       "  --sklearn-color-icon: #696969;\n",
       "\n",
       "  @media (prefers-color-scheme: dark) {\n",
       "    /* Redefinition of color scheme for dark theme */\n",
       "    --sklearn-color-text-on-default-background: var(--sg-text-color, var(--theme-code-foreground, var(--jp-content-font-color1, white)));\n",
       "    --sklearn-color-background: var(--sg-background-color, var(--theme-background, var(--jp-layout-color0, #111)));\n",
       "    --sklearn-color-border-box: var(--sg-text-color, var(--theme-code-foreground, var(--jp-content-font-color1, white)));\n",
       "    --sklearn-color-icon: #878787;\n",
       "  }\n",
       "}\n",
       "\n",
       "#sk-container-id-1 {\n",
       "  color: var(--sklearn-color-text);\n",
       "}\n",
       "\n",
       "#sk-container-id-1 pre {\n",
       "  padding: 0;\n",
       "}\n",
       "\n",
       "#sk-container-id-1 input.sk-hidden--visually {\n",
       "  border: 0;\n",
       "  clip: rect(1px 1px 1px 1px);\n",
       "  clip: rect(1px, 1px, 1px, 1px);\n",
       "  height: 1px;\n",
       "  margin: -1px;\n",
       "  overflow: hidden;\n",
       "  padding: 0;\n",
       "  position: absolute;\n",
       "  width: 1px;\n",
       "}\n",
       "\n",
       "#sk-container-id-1 div.sk-dashed-wrapped {\n",
       "  border: 1px dashed var(--sklearn-color-line);\n",
       "  margin: 0 0.4em 0.5em 0.4em;\n",
       "  box-sizing: border-box;\n",
       "  padding-bottom: 0.4em;\n",
       "  background-color: var(--sklearn-color-background);\n",
       "}\n",
       "\n",
       "#sk-container-id-1 div.sk-container {\n",
       "  /* jupyter's `normalize.less` sets `[hidden] { display: none; }`\n",
       "     but bootstrap.min.css set `[hidden] { display: none !important; }`\n",
       "     so we also need the `!important` here to be able to override the\n",
       "     default hidden behavior on the sphinx rendered scikit-learn.org.\n",
       "     See: https://github.com/scikit-learn/scikit-learn/issues/21755 */\n",
       "  display: inline-block !important;\n",
       "  position: relative;\n",
       "}\n",
       "\n",
       "#sk-container-id-1 div.sk-text-repr-fallback {\n",
       "  display: none;\n",
       "}\n",
       "\n",
       "div.sk-parallel-item,\n",
       "div.sk-serial,\n",
       "div.sk-item {\n",
       "  /* draw centered vertical line to link estimators */\n",
       "  background-image: linear-gradient(var(--sklearn-color-text-on-default-background), var(--sklearn-color-text-on-default-background));\n",
       "  background-size: 2px 100%;\n",
       "  background-repeat: no-repeat;\n",
       "  background-position: center center;\n",
       "}\n",
       "\n",
       "/* Parallel-specific style estimator block */\n",
       "\n",
       "#sk-container-id-1 div.sk-parallel-item::after {\n",
       "  content: \"\";\n",
       "  width: 100%;\n",
       "  border-bottom: 2px solid var(--sklearn-color-text-on-default-background);\n",
       "  flex-grow: 1;\n",
       "}\n",
       "\n",
       "#sk-container-id-1 div.sk-parallel {\n",
       "  display: flex;\n",
       "  align-items: stretch;\n",
       "  justify-content: center;\n",
       "  background-color: var(--sklearn-color-background);\n",
       "  position: relative;\n",
       "}\n",
       "\n",
       "#sk-container-id-1 div.sk-parallel-item {\n",
       "  display: flex;\n",
       "  flex-direction: column;\n",
       "}\n",
       "\n",
       "#sk-container-id-1 div.sk-parallel-item:first-child::after {\n",
       "  align-self: flex-end;\n",
       "  width: 50%;\n",
       "}\n",
       "\n",
       "#sk-container-id-1 div.sk-parallel-item:last-child::after {\n",
       "  align-self: flex-start;\n",
       "  width: 50%;\n",
       "}\n",
       "\n",
       "#sk-container-id-1 div.sk-parallel-item:only-child::after {\n",
       "  width: 0;\n",
       "}\n",
       "\n",
       "/* Serial-specific style estimator block */\n",
       "\n",
       "#sk-container-id-1 div.sk-serial {\n",
       "  display: flex;\n",
       "  flex-direction: column;\n",
       "  align-items: center;\n",
       "  background-color: var(--sklearn-color-background);\n",
       "  padding-right: 1em;\n",
       "  padding-left: 1em;\n",
       "}\n",
       "\n",
       "\n",
       "/* Toggleable style: style used for estimator/Pipeline/ColumnTransformer box that is\n",
       "clickable and can be expanded/collapsed.\n",
       "- Pipeline and ColumnTransformer use this feature and define the default style\n",
       "- Estimators will overwrite some part of the style using the `sk-estimator` class\n",
       "*/\n",
       "\n",
       "/* Pipeline and ColumnTransformer style (default) */\n",
       "\n",
       "#sk-container-id-1 div.sk-toggleable {\n",
       "  /* Default theme specific background. It is overwritten whether we have a\n",
       "  specific estimator or a Pipeline/ColumnTransformer */\n",
       "  background-color: var(--sklearn-color-background);\n",
       "}\n",
       "\n",
       "/* Toggleable label */\n",
       "#sk-container-id-1 label.sk-toggleable__label {\n",
       "  cursor: pointer;\n",
       "  display: flex;\n",
       "  width: 100%;\n",
       "  margin-bottom: 0;\n",
       "  padding: 0.5em;\n",
       "  box-sizing: border-box;\n",
       "  text-align: center;\n",
       "  align-items: start;\n",
       "  justify-content: space-between;\n",
       "  gap: 0.5em;\n",
       "}\n",
       "\n",
       "#sk-container-id-1 label.sk-toggleable__label .caption {\n",
       "  font-size: 0.6rem;\n",
       "  font-weight: lighter;\n",
       "  color: var(--sklearn-color-text-muted);\n",
       "}\n",
       "\n",
       "#sk-container-id-1 label.sk-toggleable__label-arrow:before {\n",
       "  /* Arrow on the left of the label */\n",
       "  content: \"▸\";\n",
       "  float: left;\n",
       "  margin-right: 0.25em;\n",
       "  color: var(--sklearn-color-icon);\n",
       "}\n",
       "\n",
       "#sk-container-id-1 label.sk-toggleable__label-arrow:hover:before {\n",
       "  color: var(--sklearn-color-text);\n",
       "}\n",
       "\n",
       "/* Toggleable content - dropdown */\n",
       "\n",
       "#sk-container-id-1 div.sk-toggleable__content {\n",
       "  max-height: 0;\n",
       "  max-width: 0;\n",
       "  overflow: hidden;\n",
       "  text-align: left;\n",
       "  /* unfitted */\n",
       "  background-color: var(--sklearn-color-unfitted-level-0);\n",
       "}\n",
       "\n",
       "#sk-container-id-1 div.sk-toggleable__content.fitted {\n",
       "  /* fitted */\n",
       "  background-color: var(--sklearn-color-fitted-level-0);\n",
       "}\n",
       "\n",
       "#sk-container-id-1 div.sk-toggleable__content pre {\n",
       "  margin: 0.2em;\n",
       "  border-radius: 0.25em;\n",
       "  color: var(--sklearn-color-text);\n",
       "  /* unfitted */\n",
       "  background-color: var(--sklearn-color-unfitted-level-0);\n",
       "}\n",
       "\n",
       "#sk-container-id-1 div.sk-toggleable__content.fitted pre {\n",
       "  /* unfitted */\n",
       "  background-color: var(--sklearn-color-fitted-level-0);\n",
       "}\n",
       "\n",
       "#sk-container-id-1 input.sk-toggleable__control:checked~div.sk-toggleable__content {\n",
       "  /* Expand drop-down */\n",
       "  max-height: 200px;\n",
       "  max-width: 100%;\n",
       "  overflow: auto;\n",
       "}\n",
       "\n",
       "#sk-container-id-1 input.sk-toggleable__control:checked~label.sk-toggleable__label-arrow:before {\n",
       "  content: \"▾\";\n",
       "}\n",
       "\n",
       "/* Pipeline/ColumnTransformer-specific style */\n",
       "\n",
       "#sk-container-id-1 div.sk-label input.sk-toggleable__control:checked~label.sk-toggleable__label {\n",
       "  color: var(--sklearn-color-text);\n",
       "  background-color: var(--sklearn-color-unfitted-level-2);\n",
       "}\n",
       "\n",
       "#sk-container-id-1 div.sk-label.fitted input.sk-toggleable__control:checked~label.sk-toggleable__label {\n",
       "  background-color: var(--sklearn-color-fitted-level-2);\n",
       "}\n",
       "\n",
       "/* Estimator-specific style */\n",
       "\n",
       "/* Colorize estimator box */\n",
       "#sk-container-id-1 div.sk-estimator input.sk-toggleable__control:checked~label.sk-toggleable__label {\n",
       "  /* unfitted */\n",
       "  background-color: var(--sklearn-color-unfitted-level-2);\n",
       "}\n",
       "\n",
       "#sk-container-id-1 div.sk-estimator.fitted input.sk-toggleable__control:checked~label.sk-toggleable__label {\n",
       "  /* fitted */\n",
       "  background-color: var(--sklearn-color-fitted-level-2);\n",
       "}\n",
       "\n",
       "#sk-container-id-1 div.sk-label label.sk-toggleable__label,\n",
       "#sk-container-id-1 div.sk-label label {\n",
       "  /* The background is the default theme color */\n",
       "  color: var(--sklearn-color-text-on-default-background);\n",
       "}\n",
       "\n",
       "/* On hover, darken the color of the background */\n",
       "#sk-container-id-1 div.sk-label:hover label.sk-toggleable__label {\n",
       "  color: var(--sklearn-color-text);\n",
       "  background-color: var(--sklearn-color-unfitted-level-2);\n",
       "}\n",
       "\n",
       "/* Label box, darken color on hover, fitted */\n",
       "#sk-container-id-1 div.sk-label.fitted:hover label.sk-toggleable__label.fitted {\n",
       "  color: var(--sklearn-color-text);\n",
       "  background-color: var(--sklearn-color-fitted-level-2);\n",
       "}\n",
       "\n",
       "/* Estimator label */\n",
       "\n",
       "#sk-container-id-1 div.sk-label label {\n",
       "  font-family: monospace;\n",
       "  font-weight: bold;\n",
       "  display: inline-block;\n",
       "  line-height: 1.2em;\n",
       "}\n",
       "\n",
       "#sk-container-id-1 div.sk-label-container {\n",
       "  text-align: center;\n",
       "}\n",
       "\n",
       "/* Estimator-specific */\n",
       "#sk-container-id-1 div.sk-estimator {\n",
       "  font-family: monospace;\n",
       "  border: 1px dotted var(--sklearn-color-border-box);\n",
       "  border-radius: 0.25em;\n",
       "  box-sizing: border-box;\n",
       "  margin-bottom: 0.5em;\n",
       "  /* unfitted */\n",
       "  background-color: var(--sklearn-color-unfitted-level-0);\n",
       "}\n",
       "\n",
       "#sk-container-id-1 div.sk-estimator.fitted {\n",
       "  /* fitted */\n",
       "  background-color: var(--sklearn-color-fitted-level-0);\n",
       "}\n",
       "\n",
       "/* on hover */\n",
       "#sk-container-id-1 div.sk-estimator:hover {\n",
       "  /* unfitted */\n",
       "  background-color: var(--sklearn-color-unfitted-level-2);\n",
       "}\n",
       "\n",
       "#sk-container-id-1 div.sk-estimator.fitted:hover {\n",
       "  /* fitted */\n",
       "  background-color: var(--sklearn-color-fitted-level-2);\n",
       "}\n",
       "\n",
       "/* Specification for estimator info (e.g. \"i\" and \"?\") */\n",
       "\n",
       "/* Common style for \"i\" and \"?\" */\n",
       "\n",
       ".sk-estimator-doc-link,\n",
       "a:link.sk-estimator-doc-link,\n",
       "a:visited.sk-estimator-doc-link {\n",
       "  float: right;\n",
       "  font-size: smaller;\n",
       "  line-height: 1em;\n",
       "  font-family: monospace;\n",
       "  background-color: var(--sklearn-color-background);\n",
       "  border-radius: 1em;\n",
       "  height: 1em;\n",
       "  width: 1em;\n",
       "  text-decoration: none !important;\n",
       "  margin-left: 0.5em;\n",
       "  text-align: center;\n",
       "  /* unfitted */\n",
       "  border: var(--sklearn-color-unfitted-level-1) 1pt solid;\n",
       "  color: var(--sklearn-color-unfitted-level-1);\n",
       "}\n",
       "\n",
       ".sk-estimator-doc-link.fitted,\n",
       "a:link.sk-estimator-doc-link.fitted,\n",
       "a:visited.sk-estimator-doc-link.fitted {\n",
       "  /* fitted */\n",
       "  border: var(--sklearn-color-fitted-level-1) 1pt solid;\n",
       "  color: var(--sklearn-color-fitted-level-1);\n",
       "}\n",
       "\n",
       "/* On hover */\n",
       "div.sk-estimator:hover .sk-estimator-doc-link:hover,\n",
       ".sk-estimator-doc-link:hover,\n",
       "div.sk-label-container:hover .sk-estimator-doc-link:hover,\n",
       ".sk-estimator-doc-link:hover {\n",
       "  /* unfitted */\n",
       "  background-color: var(--sklearn-color-unfitted-level-3);\n",
       "  color: var(--sklearn-color-background);\n",
       "  text-decoration: none;\n",
       "}\n",
       "\n",
       "div.sk-estimator.fitted:hover .sk-estimator-doc-link.fitted:hover,\n",
       ".sk-estimator-doc-link.fitted:hover,\n",
       "div.sk-label-container:hover .sk-estimator-doc-link.fitted:hover,\n",
       ".sk-estimator-doc-link.fitted:hover {\n",
       "  /* fitted */\n",
       "  background-color: var(--sklearn-color-fitted-level-3);\n",
       "  color: var(--sklearn-color-background);\n",
       "  text-decoration: none;\n",
       "}\n",
       "\n",
       "/* Span, style for the box shown on hovering the info icon */\n",
       ".sk-estimator-doc-link span {\n",
       "  display: none;\n",
       "  z-index: 9999;\n",
       "  position: relative;\n",
       "  font-weight: normal;\n",
       "  right: .2ex;\n",
       "  padding: .5ex;\n",
       "  margin: .5ex;\n",
       "  width: min-content;\n",
       "  min-width: 20ex;\n",
       "  max-width: 50ex;\n",
       "  color: var(--sklearn-color-text);\n",
       "  box-shadow: 2pt 2pt 4pt #999;\n",
       "  /* unfitted */\n",
       "  background: var(--sklearn-color-unfitted-level-0);\n",
       "  border: .5pt solid var(--sklearn-color-unfitted-level-3);\n",
       "}\n",
       "\n",
       ".sk-estimator-doc-link.fitted span {\n",
       "  /* fitted */\n",
       "  background: var(--sklearn-color-fitted-level-0);\n",
       "  border: var(--sklearn-color-fitted-level-3);\n",
       "}\n",
       "\n",
       ".sk-estimator-doc-link:hover span {\n",
       "  display: block;\n",
       "}\n",
       "\n",
       "/* \"?\"-specific style due to the `<a>` HTML tag */\n",
       "\n",
       "#sk-container-id-1 a.estimator_doc_link {\n",
       "  float: right;\n",
       "  font-size: 1rem;\n",
       "  line-height: 1em;\n",
       "  font-family: monospace;\n",
       "  background-color: var(--sklearn-color-background);\n",
       "  border-radius: 1rem;\n",
       "  height: 1rem;\n",
       "  width: 1rem;\n",
       "  text-decoration: none;\n",
       "  /* unfitted */\n",
       "  color: var(--sklearn-color-unfitted-level-1);\n",
       "  border: var(--sklearn-color-unfitted-level-1) 1pt solid;\n",
       "}\n",
       "\n",
       "#sk-container-id-1 a.estimator_doc_link.fitted {\n",
       "  /* fitted */\n",
       "  border: var(--sklearn-color-fitted-level-1) 1pt solid;\n",
       "  color: var(--sklearn-color-fitted-level-1);\n",
       "}\n",
       "\n",
       "/* On hover */\n",
       "#sk-container-id-1 a.estimator_doc_link:hover {\n",
       "  /* unfitted */\n",
       "  background-color: var(--sklearn-color-unfitted-level-3);\n",
       "  color: var(--sklearn-color-background);\n",
       "  text-decoration: none;\n",
       "}\n",
       "\n",
       "#sk-container-id-1 a.estimator_doc_link.fitted:hover {\n",
       "  /* fitted */\n",
       "  background-color: var(--sklearn-color-fitted-level-3);\n",
       "}\n",
       "</style><div id=\"sk-container-id-1\" class=\"sk-top-container\"><div class=\"sk-text-repr-fallback\"><pre>NearestNeighbors(metric=&#x27;cosine&#x27;, n_neighbors=6)</pre><b>In a Jupyter environment, please rerun this cell to show the HTML representation or trust the notebook. <br />On GitHub, the HTML representation is unable to render, please try loading this page with nbviewer.org.</b></div><div class=\"sk-container\" hidden><div class=\"sk-item\"><div class=\"sk-estimator fitted sk-toggleable\"><input class=\"sk-toggleable__control sk-hidden--visually\" id=\"sk-estimator-id-1\" type=\"checkbox\" checked><label for=\"sk-estimator-id-1\" class=\"sk-toggleable__label fitted sk-toggleable__label-arrow\"><div><div>NearestNeighbors</div></div><div><a class=\"sk-estimator-doc-link fitted\" rel=\"noreferrer\" target=\"_blank\" href=\"https://scikit-learn.org/1.6/modules/generated/sklearn.neighbors.NearestNeighbors.html\">?<span>Documentation for NearestNeighbors</span></a><span class=\"sk-estimator-doc-link fitted\">i<span>Fitted</span></span></div></label><div class=\"sk-toggleable__content fitted\"><pre>NearestNeighbors(metric=&#x27;cosine&#x27;, n_neighbors=6)</pre></div> </div></div></div></div>"
      ],
      "text/plain": [
       "NearestNeighbors(metric='cosine', n_neighbors=6)"
      ]
     },
     "execution_count": 51,
     "metadata": {},
     "output_type": "execute_result"
    }
   ],
   "source": [
    "knn = NearestNeighbors(n_neighbors=6, metric='cosine')\n",
    "df_audio_features= less_lyrics_scaled_df[audio_features]\n",
    "knn.fit(less_lyrics_scaled_df[audio_features])"
   ]
  },
  {
   "cell_type": "code",
   "execution_count": 52,
   "metadata": {
    "id": "lEwlxDXYH0F6"
   },
   "outputs": [],
   "source": [
    "def recommend_similar_songs(song_name, scaled_df, full_df):\n",
    "  try:\n",
    "    track_index = full_df[full_df['track_name'].str.lower() == song_name.lower()].index[0]\n",
    "  except IndexError:\n",
    "    return None\n",
    "  song_row = scaled_df.iloc[track_index]\n",
    "  song_vector = song_row[audio_features].values.reshape(1,-1) #  get numpy array of audio features\n",
    "  distances, indices = knn.kneighbors(song_vector)\n",
    "  similar_songs_idx = scaled_df.iloc[indices[0][1:]].index\n",
    "  return full_df.loc[similar_songs_idx][['track_name', 'artist_name']]"
   ]
  },
  {
   "cell_type": "code",
   "execution_count": 53,
   "metadata": {
    "id": "vfrpZl4XJQNY"
   },
   "outputs": [
    {
     "name": "stderr",
     "output_type": "stream",
     "text": [
      "C:\\Users\\Yun\\AppData\\Local\\Programs\\Python\\Python313\\Lib\\site-packages\\sklearn\\utils\\validation.py:2739: UserWarning: X does not have valid feature names, but NearestNeighbors was fitted with feature names\n",
      "  warnings.warn(\n"
     ]
    },
    {
     "data": {
      "text/html": [
       "<div>\n",
       "<style scoped>\n",
       "    .dataframe tbody tr th:only-of-type {\n",
       "        vertical-align: middle;\n",
       "    }\n",
       "\n",
       "    .dataframe tbody tr th {\n",
       "        vertical-align: top;\n",
       "    }\n",
       "\n",
       "    .dataframe thead th {\n",
       "        text-align: right;\n",
       "    }\n",
       "</style>\n",
       "<table border=\"1\" class=\"dataframe\">\n",
       "  <thead>\n",
       "    <tr style=\"text-align: right;\">\n",
       "      <th></th>\n",
       "      <th>track_name</th>\n",
       "      <th>artist_name</th>\n",
       "    </tr>\n",
       "  </thead>\n",
       "  <tbody>\n",
       "    <tr>\n",
       "      <th>1057</th>\n",
       "      <td>Say Something</td>\n",
       "      <td>A Great Big World</td>\n",
       "    </tr>\n",
       "    <tr>\n",
       "      <th>5809</th>\n",
       "      <td>Girl Crush - Recorded at Metropolis Studios, L...</td>\n",
       "      <td>Harry Styles</td>\n",
       "    </tr>\n",
       "    <tr>\n",
       "      <th>1821</th>\n",
       "      <td>I'll Be Good</td>\n",
       "      <td>Jaymes Young</td>\n",
       "    </tr>\n",
       "    <tr>\n",
       "      <th>7968</th>\n",
       "      <td>K.</td>\n",
       "      <td>Rosie Carney</td>\n",
       "    </tr>\n",
       "    <tr>\n",
       "      <th>9592</th>\n",
       "      <td>Golden (Acoustic)</td>\n",
       "      <td>Becca Mancari</td>\n",
       "    </tr>\n",
       "  </tbody>\n",
       "</table>\n",
       "</div>"
      ],
      "text/plain": [
       "                                             track_name        artist_name\n",
       "1057                                      Say Something  A Great Big World\n",
       "5809  Girl Crush - Recorded at Metropolis Studios, L...       Harry Styles\n",
       "1821                                       I'll Be Good       Jaymes Young\n",
       "7968                                                 K.       Rosie Carney\n",
       "9592                                  Golden (Acoustic)      Becca Mancari"
      ]
     },
     "execution_count": 53,
     "metadata": {},
     "output_type": "execute_result"
    }
   ],
   "source": [
    "generate_rec = recommend_similar_songs('I won\\'t give up', less_lyrics_scaled_df, df_with_lyrics)\n",
    "generate_rec.head(5)"
   ]
  },
  {
   "cell_type": "code",
   "execution_count": 54,
   "metadata": {},
   "outputs": [],
   "source": [
    "# def recommend_similar_songs(song_name, scaled_df, full_df, audio_features, knn_model, all_lyrics_embeddings, num_recommendations=6):\n",
    "#     try:\n",
    "#         track_index = full_df[full_df['track_name'].str.lower() == song_name.lower()].index[0]\n",
    "#     except IndexError:\n",
    "#         print(f\"'{song_name}' not found in dataset.\")\n",
    "#         return None\n",
    "\n",
    "#     song_row = scaled_df.loc[track_index]\n",
    "#     song_vector = song_row[audio_features].values.reshape(1, -1)\n",
    "\n",
    "#     lyrics = full_df.loc[track_index, 'lyrics']  # Assuming the lyrics column exists\n",
    "#     lyrics_embedding = get_lyrics_embedding(lyrics)\n",
    "\n",
    "#     print('finding similar songs based on audio features')\n",
    "\n",
    "#     distances, indices = knn_model.kneighbors(song_vector, n_neighbors=num_recommendations + 1)\n",
    "\n",
    "#     audio_similar_songs_idx = scaled_df.iloc[indices[0][1:]].index\n",
    "    \n",
    "#     print('finding similar songs based on lyrics')\n",
    "\n",
    "#     print('Get lyrics embeddings')\n",
    "    \n",
    "#     input_song_lyrics_embedding = all_lyrics_embeddings[track_index]\n",
    "#     lyric_similarities = cosine_similarity(\n",
    "#         [input_song_lyrics_embedding],\n",
    "#         all_lyrics_embeddings\n",
    "#     )[0]\n",
    "\n",
    "#     print('Combining')\n",
    "\n",
    "#     combined_similarities = distances[0][1:] * 0.5 + lyric_similarities[indices[0][1:]] * 0.5  # You can adjust weights here\n",
    "\n",
    "#     print('Sorting')\n",
    "\n",
    "#     recommended_indices = np.argsort(combined_similarities)[::-1][:num_recommendations]\n",
    "#     top_scores = np.sort(combined_similarities)[::-1][:num_recommendations]\n",
    "#     print(top_scores)\n",
    "#     for idx in recommended_indices:\n",
    "#         song_name = full_df.loc[idx, 'track_name']\n",
    "#         artist_name = full_df.loc[idx, 'artist_name']\n",
    "#         combined_similarity = combined_similarities[idx]\n",
    "#         print(f\"Song: {song_name} | Artist: {artist_name} | Combined Similarity: {combined_similarity:.3f}\")\n",
    "\n"
   ]
  },
  {
   "cell_type": "code",
   "execution_count": 55,
   "metadata": {},
   "outputs": [],
   "source": [
    "# def recommend_similar_songs(song_name, scaled_df, full_df, audio_features, all_lyrics_embeddings, num_recommendations=6):\n",
    "#     try:\n",
    "#         track_index = full_df[full_df['track_name'].str.lower() == song_name.lower()].index[0]\n",
    "#     except IndexError:\n",
    "#         print(f\"'{song_name}' not found in dataset.\")\n",
    "#         return None\n",
    "\n",
    "#     song_row = scaled_df.loc[track_index]\n",
    "#     song_audio_vector = song_row[audio_features].values.reshape(1, -1)\n",
    "\n",
    "#     lyrics = full_df.loc[track_index, 'lyrics']  \n",
    "#     lyrics_embedding = get_lyrics_embedding(lyrics).reshape(1, -1)\n",
    "\n",
    "#     combined_song_features = np.hstack((song_audio_vector, lyrics_embedding))  # Concatenate along columns\n",
    "\n",
    "#     print('Training KNN model with combined features (audio + lyrics)')\n",
    "\n",
    "#     audio_features_data = scaled_df[audio_features].values  \n",
    "#     all_lyrics_embeddings_data = all_lyrics_embeddings  \n",
    "\n",
    "#     combined_features = np.hstack((audio_features_data, all_lyrics_embeddings_data))\n",
    "\n",
    "#     knn_model = NearestNeighbors(n_neighbors=num_recommendations + 1, metric='cosine')\n",
    "#     knn_model.fit(combined_features)\n",
    "\n",
    "#     print('Finding similar songs based on combined features')\n",
    "\n",
    "#     distances, indices = knn_model.kneighbors(combined_song_features, n_neighbors=num_recommendations + 1)\n",
    "\n",
    "#     similar_songs_idx = scaled_df.iloc[indices[0][1:]].index\n",
    "\n",
    "#     print('Top Recommended Songs:')\n",
    "#     for i, index in enumerate(indices[0][1:]):  \n",
    "#         song_name = full_df.loc[index, 'track_name']\n",
    "#         artist_name = full_df.loc[index, 'artist_name']\n",
    "#         combined_similarity = 1 - distances[0][i + 1]  \n",
    "#         print(f\"Song: {song_name} | Artist: {artist_name} | Combined Similarity: {combined_similarity:.3f}\")\n",
    "\n",
    "#     recommended_songs = full_df.iloc[similar_songs_idx][['track_name', 'artist_name', 'lyrics']]\n",
    "\n",
    "#     return recommended_songs\n"
   ]
  },
  {
   "cell_type": "code",
   "execution_count": 56,
   "metadata": {},
   "outputs": [],
   "source": [
    "def recommend_similar_songs(song_name, artist_name, scaled_df, full_df, audio_features, all_lyrics_embeddings, all_description_embeddings, num_recommendations=6):\n",
    "    try:\n",
    "\n",
    "        track_index = full_df[(full_df['track_name'].str.lower() == song_name.lower()) & (full_df['artist_name'].str.lower() == artist_name.lower())].index[0]\n",
    "    except IndexError:\n",
    "        print(f\"'{song_name}' not found in dataset.\")\n",
    "        return None\n",
    "\n",
    "    song_row = scaled_df.loc[track_index]\n",
    "    song_audio_vector = song_row[audio_features].values.reshape(1, -1)\n",
    "\n",
    "    lyrics = full_df.loc[track_index, 'lyrics']  \n",
    "    lyrics_embedding = get_embedding(lyrics).reshape(1, -1)\n",
    "\n",
    "    desc = full_df.loc[track_index, 'description']  \n",
    "    desc_embedding = get_embedding(desc).reshape(1, -1)\n",
    "\n",
    "    combined_song_features = np.hstack((song_audio_vector, lyrics_embedding, desc_embedding))  \n",
    "\n",
    "    # print('Training KNN model with combined features (audio + lyrics + description)')\n",
    "\n",
    "    audio_features_data = scaled_df[audio_features].values  \n",
    "\n",
    "    combined_features = np.hstack((audio_features_data, all_lyrics_embeddings, all_description_embeddings))\n",
    "\n",
    "    knn_model = NearestNeighbors(n_neighbors=num_recommendations + 1, metric='cosine')\n",
    "    knn_model.fit(combined_features)\n",
    "\n",
    "    # print('Finding similar songs based on combined features')\n",
    "\n",
    "    distances, indices = knn_model.kneighbors(combined_song_features, n_neighbors=num_recommendations + 1)\n",
    "\n",
    "    similar_songs_idx = scaled_df.iloc[indices[0][1:]].index\n",
    "\n",
    "    print('Top Recommended Songs:')\n",
    "    for i, index in enumerate(indices[0][1:]):  \n",
    "        song_name = full_df.loc[index, 'track_name']\n",
    "        artist_name = full_df.loc[index, 'artist_name']\n",
    "        combined_similarity = 1 - distances[0][i + 1]  \n",
    "        print(f\"Song: {song_name} | Artist: {artist_name} | Combined Similarity: {combined_similarity:.3f}\")\n",
    "\n",
    "    recommended_songs = full_df.iloc[similar_songs_idx][['track_name', 'artist_name', 'lyrics']]\n",
    "\n",
    "    return recommended_songs\n"
   ]
  },
  {
   "cell_type": "markdown",
   "metadata": {},
   "source": [
    "Generate 4 recommendations based on cosine similarity in audio features and meaning behind lyrics"
   ]
  },
  {
   "cell_type": "code",
   "execution_count": 57,
   "metadata": {},
   "outputs": [],
   "source": [
    "# generate_rec = recommend_similar_songs('Love Someone', less_lyrics_scaled_df, df_with_lyrics, features, all_lyrics_embeddings, all_description_embeddings)"
   ]
  },
  {
   "cell_type": "code",
   "execution_count": 58,
   "metadata": {},
   "outputs": [
    {
     "name": "stdin",
     "output_type": "stream",
     "text": [
      "Enter song name,artist name:  love someone,lukas graham\n"
     ]
    },
    {
     "name": "stdout",
     "output_type": "stream",
     "text": [
      "Top Recommended Songs:\n",
      "Song: Dusk Till Dawn (feat. Sia) - Radio Edit | Artist: ZAYN | Combined Similarity: 0.866\n",
      "Song: Way down We Go | Artist: KALEO | Combined Similarity: 0.821\n",
      "Song: So Far Away (feat. Jamie Scott & Romy Dya) | Artist: Martin Garrix | Combined Similarity: 0.811\n",
      "Song: Darkside | Artist: Alan Walker | Combined Similarity: 0.809\n",
      "Song: It Won't Kill Ya | Artist: The Chainsmokers | Combined Similarity: 0.801\n",
      "Song: Do Or Die | Artist: Axel Johansson | Combined Similarity: 0.800\n"
     ]
    }
   ],
   "source": [
    "song = input(\"Enter song name,artist name: \")\n",
    "song_split = song.split(',')\n",
    "song_name = song_split[0]\n",
    "artist_name = song_split[1]\n",
    "generate_rec = recommend_similar_songs(song_name, artist_name, less_lyrics_scaled_df, df_with_lyrics, features, all_lyrics_embeddings, all_description_embeddings)"
   ]
  },
  {
   "cell_type": "markdown",
   "metadata": {
    "id": "Qa3b-KzCcric"
   },
   "source": [
    "Using text prompt"
   ]
  },
  {
   "cell_type": "code",
   "execution_count": 59,
   "metadata": {},
   "outputs": [
    {
     "data": {
      "text/html": [
       "<div>\n",
       "<style scoped>\n",
       "    .dataframe tbody tr th:only-of-type {\n",
       "        vertical-align: middle;\n",
       "    }\n",
       "\n",
       "    .dataframe tbody tr th {\n",
       "        vertical-align: top;\n",
       "    }\n",
       "\n",
       "    .dataframe thead th {\n",
       "        text-align: right;\n",
       "    }\n",
       "</style>\n",
       "<table border=\"1\" class=\"dataframe\">\n",
       "  <thead>\n",
       "    <tr style=\"text-align: right;\">\n",
       "      <th></th>\n",
       "      <th>artist_name</th>\n",
       "      <th>track_name</th>\n",
       "      <th>track_id</th>\n",
       "      <th>popularity</th>\n",
       "      <th>year</th>\n",
       "      <th>genre</th>\n",
       "      <th>danceability</th>\n",
       "      <th>energy</th>\n",
       "      <th>key</th>\n",
       "      <th>loudness</th>\n",
       "      <th>...</th>\n",
       "      <th>acousticness</th>\n",
       "      <th>instrumentalness</th>\n",
       "      <th>liveness</th>\n",
       "      <th>valence</th>\n",
       "      <th>tempo</th>\n",
       "      <th>duration_ms</th>\n",
       "      <th>time_signature</th>\n",
       "      <th>lyrics</th>\n",
       "      <th>description</th>\n",
       "      <th>Cluster</th>\n",
       "    </tr>\n",
       "  </thead>\n",
       "  <tbody>\n",
       "    <tr>\n",
       "      <th>0</th>\n",
       "      <td>Jason Mraz</td>\n",
       "      <td>I Won't Give Up</td>\n",
       "      <td>53QF56cjZA9RTuuMZDrSA6</td>\n",
       "      <td>68</td>\n",
       "      <td>2012</td>\n",
       "      <td>acoustic</td>\n",
       "      <td>0.483</td>\n",
       "      <td>0.303</td>\n",
       "      <td>4</td>\n",
       "      <td>-10.058</td>\n",
       "      <td>...</td>\n",
       "      <td>0.6940</td>\n",
       "      <td>0.000000</td>\n",
       "      <td>0.115</td>\n",
       "      <td>0.1390</td>\n",
       "      <td>133.406</td>\n",
       "      <td>240166</td>\n",
       "      <td>3.0</td>\n",
       "      <td>\\r\\n\\r\\nWhen I look into your eyes\\r\\nIt's lik...</td>\n",
       "      <td>Track: I Won't Give Up, Artist: Jason Mraz, Ge...</td>\n",
       "      <td>6</td>\n",
       "    </tr>\n",
       "    <tr>\n",
       "      <th>1</th>\n",
       "      <td>Sara Bareilles</td>\n",
       "      <td>Stay</td>\n",
       "      <td>24xqELXbmKDFLKkR3271jb</td>\n",
       "      <td>37</td>\n",
       "      <td>2012</td>\n",
       "      <td>acoustic</td>\n",
       "      <td>0.262</td>\n",
       "      <td>0.341</td>\n",
       "      <td>2</td>\n",
       "      <td>-8.496</td>\n",
       "      <td>...</td>\n",
       "      <td>0.5890</td>\n",
       "      <td>0.001540</td>\n",
       "      <td>0.140</td>\n",
       "      <td>0.1810</td>\n",
       "      <td>99.913</td>\n",
       "      <td>262613</td>\n",
       "      <td>3.0</td>\n",
       "      <td>\\r\\n\\r\\nSaturday, empty room, filled with peop...</td>\n",
       "      <td>Track: Stay, Artist: Sara Bareilles, Genre: ac...</td>\n",
       "      <td>6</td>\n",
       "    </tr>\n",
       "    <tr>\n",
       "      <th>2</th>\n",
       "      <td>Johnnyswim</td>\n",
       "      <td>Annie</td>\n",
       "      <td>6SU4bifjXJwueCHG8maEXz</td>\n",
       "      <td>34</td>\n",
       "      <td>2012</td>\n",
       "      <td>acoustic</td>\n",
       "      <td>0.594</td>\n",
       "      <td>0.251</td>\n",
       "      <td>4</td>\n",
       "      <td>-9.036</td>\n",
       "      <td>...</td>\n",
       "      <td>0.6300</td>\n",
       "      <td>0.000003</td>\n",
       "      <td>0.112</td>\n",
       "      <td>0.0502</td>\n",
       "      <td>98.819</td>\n",
       "      <td>270841</td>\n",
       "      <td>4.0</td>\n",
       "      <td>\\r\\nThe carpet still holds the shape of your f...</td>\n",
       "      <td>Track: Annie, Artist: Johnnyswim, Genre: acoustic</td>\n",
       "      <td>6</td>\n",
       "    </tr>\n",
       "    <tr>\n",
       "      <th>3</th>\n",
       "      <td>Otis Spann</td>\n",
       "      <td>Someday (Electric)</td>\n",
       "      <td>5ZUxxja3WzBZUFF6P9M9HN</td>\n",
       "      <td>34</td>\n",
       "      <td>2012</td>\n",
       "      <td>acoustic</td>\n",
       "      <td>0.581</td>\n",
       "      <td>0.333</td>\n",
       "      <td>0</td>\n",
       "      <td>-14.209</td>\n",
       "      <td>...</td>\n",
       "      <td>0.9440</td>\n",
       "      <td>0.472000</td>\n",
       "      <td>0.332</td>\n",
       "      <td>0.4880</td>\n",
       "      <td>94.197</td>\n",
       "      <td>206800</td>\n",
       "      <td>3.0</td>\n",
       "      <td>\\r\\nThe gypsy woman told my mother\\r\\nBefore I...</td>\n",
       "      <td>Track: Someday (Electric), Artist: Otis Spann,...</td>\n",
       "      <td>6</td>\n",
       "    </tr>\n",
       "    <tr>\n",
       "      <th>4</th>\n",
       "      <td>Green River Ordinance</td>\n",
       "      <td>New Day</td>\n",
       "      <td>7wT7EvhnZ1MygDBoRyO9z0</td>\n",
       "      <td>20</td>\n",
       "      <td>2012</td>\n",
       "      <td>acoustic</td>\n",
       "      <td>0.542</td>\n",
       "      <td>0.693</td>\n",
       "      <td>9</td>\n",
       "      <td>-6.049</td>\n",
       "      <td>...</td>\n",
       "      <td>0.0572</td>\n",
       "      <td>0.000146</td>\n",
       "      <td>0.119</td>\n",
       "      <td>0.4210</td>\n",
       "      <td>95.003</td>\n",
       "      <td>258573</td>\n",
       "      <td>4.0</td>\n",
       "      <td>\\r\\n\\r\\nIn the city that never sleeps\\r\\nRestl...</td>\n",
       "      <td>Track: New Day, Artist: Green River Ordinance,...</td>\n",
       "      <td>4</td>\n",
       "    </tr>\n",
       "  </tbody>\n",
       "</table>\n",
       "<p>5 rows × 22 columns</p>\n",
       "</div>"
      ],
      "text/plain": [
       "             artist_name          track_name                track_id  \\\n",
       "0             Jason Mraz     I Won't Give Up  53QF56cjZA9RTuuMZDrSA6   \n",
       "1         Sara Bareilles                Stay  24xqELXbmKDFLKkR3271jb   \n",
       "2             Johnnyswim               Annie  6SU4bifjXJwueCHG8maEXz   \n",
       "3             Otis Spann  Someday (Electric)  5ZUxxja3WzBZUFF6P9M9HN   \n",
       "4  Green River Ordinance             New Day  7wT7EvhnZ1MygDBoRyO9z0   \n",
       "\n",
       "   popularity  year     genre  danceability  energy  key  loudness  ...  \\\n",
       "0          68  2012  acoustic         0.483   0.303    4   -10.058  ...   \n",
       "1          37  2012  acoustic         0.262   0.341    2    -8.496  ...   \n",
       "2          34  2012  acoustic         0.594   0.251    4    -9.036  ...   \n",
       "3          34  2012  acoustic         0.581   0.333    0   -14.209  ...   \n",
       "4          20  2012  acoustic         0.542   0.693    9    -6.049  ...   \n",
       "\n",
       "   acousticness  instrumentalness  liveness  valence    tempo  duration_ms  \\\n",
       "0        0.6940          0.000000     0.115   0.1390  133.406       240166   \n",
       "1        0.5890          0.001540     0.140   0.1810   99.913       262613   \n",
       "2        0.6300          0.000003     0.112   0.0502   98.819       270841   \n",
       "3        0.9440          0.472000     0.332   0.4880   94.197       206800   \n",
       "4        0.0572          0.000146     0.119   0.4210   95.003       258573   \n",
       "\n",
       "   time_signature                                             lyrics  \\\n",
       "0             3.0  \\r\\n\\r\\nWhen I look into your eyes\\r\\nIt's lik...   \n",
       "1             3.0  \\r\\n\\r\\nSaturday, empty room, filled with peop...   \n",
       "2             4.0  \\r\\nThe carpet still holds the shape of your f...   \n",
       "3             3.0  \\r\\nThe gypsy woman told my mother\\r\\nBefore I...   \n",
       "4             4.0  \\r\\n\\r\\nIn the city that never sleeps\\r\\nRestl...   \n",
       "\n",
       "                                         description Cluster  \n",
       "0  Track: I Won't Give Up, Artist: Jason Mraz, Ge...       6  \n",
       "1  Track: Stay, Artist: Sara Bareilles, Genre: ac...       6  \n",
       "2  Track: Annie, Artist: Johnnyswim, Genre: acoustic       6  \n",
       "3  Track: Someday (Electric), Artist: Otis Spann,...       6  \n",
       "4  Track: New Day, Artist: Green River Ordinance,...       4  \n",
       "\n",
       "[5 rows x 22 columns]"
      ]
     },
     "execution_count": 59,
     "metadata": {},
     "output_type": "execute_result"
    }
   ],
   "source": [
    "df_with_lyrics.head(5)"
   ]
  },
  {
   "cell_type": "code",
   "execution_count": 60,
   "metadata": {},
   "outputs": [
    {
     "name": "stdin",
     "output_type": "stream",
     "text": [
      "Enter song name,artist name:  i won't give up,jason mraz\n"
     ]
    },
    {
     "name": "stdout",
     "output_type": "stream",
     "text": [
      "Top Recommended Songs:\n",
      "Song: Girl Crush - Recorded at Metropolis Studios, London | Artist: Harry Styles | Combined Similarity: 0.921\n",
      "Song: Say Something | Artist: A Great Big World | Combined Similarity: 0.904\n",
      "Song: I'll Be Good | Artist: Jaymes Young | Combined Similarity: 0.889\n",
      "Song: Cover Me Up | Artist: Jason Isbell | Combined Similarity: 0.882\n",
      "Song: Iris | Artist: Kina Grannis | Combined Similarity: 0.875\n",
      "Song: Like I'm Gonna Lose You | Artist: Jasmine Thompson | Combined Similarity: 0.873\n"
     ]
    }
   ],
   "source": [
    "song = input(\"Enter song name,artist name: \")\n",
    "song_split = song.split(',')\n",
    "song_name = song_split[0]\n",
    "artist_name = song_split[1]\n",
    "generate_rec = recommend_similar_songs(song_name, artist_name, less_lyrics_scaled_df, df_with_lyrics, features, all_lyrics_embeddings, all_description_embeddings)"
   ]
  },
  {
   "cell_type": "code",
   "execution_count": 62,
   "metadata": {},
   "outputs": [],
   "source": [
    "def recommend_music_using_prompt(df, user_text_embedding, lyrics_embeddings, num_recommendations=5):\n",
    "    # Compute the cosine similarity between the user's input and each song's lyrics embedding\n",
    "    similarities = [cosine_similarity([user_text_embedding], [lyrics_embedding])[0][0] for lyrics_embedding in lyrics_embeddings]\n",
    "    \n",
    "    # Now, we'll rank the songs by similarity without modifying the dataframe\n",
    "    # Sort by similarity score in descending order and get the top recommendations\n",
    "    sorted_indices = sorted(range(len(similarities)), key=lambda i: similarities[i], reverse=True)[:num_recommendations]\n",
    "    \n",
    "    # Display the sorted songs with their similarity scores\n",
    "    for idx in sorted_indices:\n",
    "        print(f\"Song: {df['track_name'][idx]}, Artist: {df['artist_name'][idx]}, Similarity: {similarities[idx]:.3f}\")\n"
   ]
  },
  {
   "cell_type": "code",
   "execution_count": 63,
   "metadata": {},
   "outputs": [],
   "source": [
    "def recommend_music_using_knn(df, user_text_embedding, lyrics_embeddings, num_recommendations=5):\n",
    "\n",
    "    knn_model = NearestNeighbors(n_neighbors=num_recommendations, metric='cosine')\n",
    "    knn_model.fit(lyrics_embeddings)\n",
    "\n",
    "    distances, indices = knn_model.kneighbors([user_text_embedding], n_neighbors=num_recommendations)\n",
    "\n",
    "    print(f\"Top {num_recommendations} Recommended Songs:\")\n",
    "    for i, idx in enumerate(indices[0][1:]): \n",
    "        song_name = df['track_name'].iloc[idx]\n",
    "        artist_name = df['artist_name'].iloc[idx]\n",
    "        similarity_score = 1 - distances[0][i + 1] \n",
    "        print(f\"Song: {song_name}, Artist: {artist_name}, Similarity: {similarity_score:.3f}\")"
   ]
  },
  {
   "cell_type": "code",
   "execution_count": 64,
   "metadata": {},
   "outputs": [],
   "source": [
    "user_prompt= \"I miss my old home and childhood memories\"\n",
    "user_text_embedding = model.encode(user_prompt)"
   ]
  },
  {
   "cell_type": "code",
   "execution_count": 65,
   "metadata": {},
   "outputs": [
    {
     "data": {
      "text/plain": [
       "384"
      ]
     },
     "execution_count": 65,
     "metadata": {},
     "output_type": "execute_result"
    }
   ],
   "source": [
    "user_text_embedding.size"
   ]
  },
  {
   "cell_type": "code",
   "execution_count": 66,
   "metadata": {},
   "outputs": [
    {
     "data": {
      "text/plain": [
       "(10935, 384)"
      ]
     },
     "execution_count": 66,
     "metadata": {},
     "output_type": "execute_result"
    }
   ],
   "source": [
    "all_lyrics_embeddings.shape"
   ]
  },
  {
   "cell_type": "code",
   "execution_count": 67,
   "metadata": {},
   "outputs": [
    {
     "name": "stdout",
     "output_type": "stream",
     "text": [
      "Song: If the World Had a Front Porch, Artist: Tracy Lawrence, Similarity: 0.467\n",
      "Song: Records (feat. Hier), Artist: Y.V.E. 48, Similarity: 0.452\n",
      "Song: The World I Used to Know, Artist: We Came As Romans, Similarity: 0.431\n",
      "Song: Death Becomes My Voice, Artist: Ringworm, Similarity: 0.427\n",
      "Song: Oh Child, Artist: Robin Schulz, Similarity: 0.420\n"
     ]
    }
   ],
   "source": [
    "recommend_music_using_prompt(df_with_lyrics, user_text_embedding, all_lyrics_embeddings)"
   ]
  },
  {
   "cell_type": "code",
   "execution_count": 68,
   "metadata": {},
   "outputs": [],
   "source": [
    "user_prompt2= \"I need something energetic to work out to.\"\n",
    "user_text_embedding2 = model.encode(user_prompt2)"
   ]
  },
  {
   "cell_type": "code",
   "execution_count": 81,
   "metadata": {},
   "outputs": [
    {
     "name": "stdout",
     "output_type": "stream",
     "text": [
      "Top 5 Recommended Songs:\n",
      "Song: Trust Fund Baby, Artist: Why Don't We, Similarity: 0.432\n",
      "Song: Vibe., Artist: JoJo, Similarity: 0.363\n",
      "Song: Lost, Artist: Toonorth, Similarity: 0.357\n",
      "Song: Sou Teu Fã, Artist: DENNIS, Similarity: 0.339\n",
      "Song: All Out Life, Artist: Slipknot, Similarity: 0.325\n"
     ]
    }
   ],
   "source": [
    "recommend_music_using_knn(df_with_lyrics, user_text_embedding2, all_lyrics_embeddings)"
   ]
  },
  {
   "cell_type": "code",
   "execution_count": 70,
   "metadata": {},
   "outputs": [
    {
     "name": "stdout",
     "output_type": "stream",
     "text": [
      "Song: In My Head, Artist: INF1N1TE, Similarity: 0.478\n",
      "Song: BLEACH, Artist: BROCKHAMPTON, Similarity: 0.470\n",
      "Song: Rx (Medicate), Artist: Theory of a Deadman, Similarity: 0.455\n",
      "Song: Nervous Tics (feat. Holly Walker), Artist: Maribou State, Similarity: 0.444\n",
      "Song: Head On (Hold On To Your Heart), Artist: Man Man, Similarity: 0.443\n"
     ]
    }
   ],
   "source": [
    "user_prompt3 = \"Today I felt really down after a hard day at work. I just wanted to relax and listen to something calming but with a little energy, something that makes me feel like I’m not alone.\"\n",
    "user_text_embedding3 = model.encode(user_prompt3)\n",
    "recommend_music_using_prompt(df_with_lyrics, user_text_embedding3, all_lyrics_embeddings)"
   ]
  },
  {
   "cell_type": "code",
   "execution_count": 71,
   "metadata": {},
   "outputs": [
    {
     "name": "stdout",
     "output_type": "stream",
     "text": [
      "Song: Rest, Artist: Curses, Similarity: 0.573\n",
      "Song: Legion, Artist: Sins In Vain, Similarity: 0.569\n",
      "Song: BLEACH, Artist: BROCKHAMPTON, Similarity: 0.542\n",
      "Song: Nervous Tics (feat. Holly Walker), Artist: Maribou State, Similarity: 0.539\n",
      "Song: Head On (Hold On To Your Heart), Artist: Man Man, Similarity: 0.537\n"
     ]
    }
   ],
   "source": [
    "user_prompt4 = \"Today was one of those days where everything seemed to be moving too fast. I woke up late, rushed through breakfast, and barely made it to work on time. The whole day felt like I was running on autopilot—meetings, emails, deadlines... everything was just piling up. By the time I got home, I was exhausted, but I knew I needed to unwind before I could even think about going to bed.I decided to go for a walk to clear my head. The fresh air helped a little, but I was still carrying the weight of the day with me. I felt a little disconnected, like I was physically present but mentally somewhere else. I wanted to listen to music that matched how I felt—something that was a little melancholic but also had a sense of hope. I wanted to feel like I wasn't the only one struggling, but I also needed something to remind me that there’s light at the end of the tunnel. I guess I’m craving a mix of calmness and energy, something that’s soothing but also gives me a little boost. It’s a weird balance—feeling both drained and needing to feel alive again.\"\n",
    "user_text_embedding4 = model.encode(user_prompt4)\n",
    "recommend_music_using_prompt(df_with_lyrics, user_text_embedding4, all_lyrics_embeddings)"
   ]
  },
  {
   "cell_type": "code",
   "execution_count": 76,
   "metadata": {},
   "outputs": [
    {
     "name": "stdout",
     "output_type": "stream",
     "text": [
      "Top 5 Recommended Songs:\n",
      "Song: Talkin Shhh - Roberts, Shaps & Keys Remix, Artist: Jovonn, Similarity: 0.478\n",
      "Song: When Will I See You Again?, Artist: Anders Osborne, Similarity: 0.470\n",
      "Song: Blasphemy, Artist: Nunslaughter, Similarity: 0.455\n",
      "Song: Kiss Me, Artist: Summer Heart, Similarity: 0.444\n",
      "Song: Dos Lucecitas, Artist: Ondatrópica, Similarity: 0.443\n"
     ]
    }
   ],
   "source": [
    "recommend_music_using_knn(df, user_text_embedding3, all_lyrics_embeddings)"
   ]
  },
  {
   "cell_type": "code",
   "execution_count": 86,
   "metadata": {},
   "outputs": [
    {
     "name": "stdin",
     "output_type": "stream",
     "text": [
      "Enter text: I woke up today feeling pretty good, all things considered. The sun was shining, and I actually felt rested, which is rare. It’s been a busy few weeks, but I’ve managed to keep up with everything. There’s this feeling of contentment that I’ve had lately — things are going well in most areas of my life, and I’m proud of the progress I’ve made. But at the same time, I feel like something’s missing, like there’s a next step I’m waiting for. I’m not unhappy, but I guess there’s always that little voice in my head telling me to keep pushing, to aim for something bigger. It’s like I can see where I’m going, but I’m still figuring out how to get there.\n"
     ]
    },
    {
     "name": "stdout",
     "output_type": "stream",
     "text": [
      "Song: Melatonin (Unplugged), Artist: Phoria, Similarity: 0.603\n",
      "Song: My Silver Lining, Artist: First Aid Kit, Similarity: 0.578\n",
      "Song: Legion, Artist: Sins In Vain, Similarity: 0.566\n",
      "Song: Rest, Artist: Curses, Similarity: 0.555\n",
      "Song: I'm Free (At Last), Artist: Masked Intruder, Similarity: 0.538\n"
     ]
    }
   ],
   "source": [
    "test_prompt = input(\"Enter text:\")\n",
    "user_text_embedding = model.encode(test_prompt)\n",
    "recommend_music_using_prompt(df_with_lyrics, user_text_embedding, all_lyrics_embeddings)"
   ]
  },
  {
   "cell_type": "code",
   "execution_count": 85,
   "metadata": {},
   "outputs": [
    {
     "name": "stdin",
     "output_type": "stream",
     "text": [
      "Enter text: Today, I feel like everything’s going smoothly, but there’s a part of me still reflecting on the past and wondering about the future.\n"
     ]
    },
    {
     "name": "stdout",
     "output_type": "stream",
     "text": [
      "Top 5 Recommended Songs:\n",
      "Song: Adam Forever, Artist: U137, Similarity: 0.591\n",
      "Song: My Repair, Artist: Sons Of The East, Similarity: 0.508\n",
      "Song: Floral Hymn, Artist: Echo Ark, Similarity: 0.495\n",
      "Song: All I Know, Artist: EDX, Similarity: 0.495\n",
      "Song: Balenciaga, Artist: Cheat Codes, Similarity: 0.486\n"
     ]
    }
   ],
   "source": [
    "test_prompt = input(\"Enter text:\")\n",
    "user_text_embedding = model.encode(test_prompt)\n",
    "recommend_music_using_knn(df_with_lyrics, user_text_embedding, all_lyrics_embeddings)"
   ]
  },
  {
   "cell_type": "code",
   "execution_count": 87,
   "metadata": {},
   "outputs": [
    {
     "name": "stdin",
     "output_type": "stream",
     "text": [
      "Enter text: Had such a good day today! The weather was perfect—sunny but with a nice breeze—so I took my lunch outside and sat in the park. There were families, people walking their dogs, and even someone sketching the fountain. It just felt alive out there. I didn’t realize how much I missed being around that kind of energy.\n"
     ]
    },
    {
     "name": "stdout",
     "output_type": "stream",
     "text": [
      "Top 5 Recommended Songs:\n",
      "Song: The Traces We Leave, Artist: Harakiri for the Sky, Similarity: 0.482\n",
      "Song: Sweet Memories, Artist: CID, Similarity: 0.428\n",
      "Song: Ether Garden, Artist: Henry Jamison, Similarity: 0.427\n",
      "Song: Cairo, IL, Artist: Natalie Hemby, Similarity: 0.424\n",
      "Song: Look At That Butt, Artist: Dillon Francis, Similarity: 0.421\n"
     ]
    }
   ],
   "source": [
    "test_prompt = input(\"Enter text:\")\n",
    "user_text_embedding = model.encode(test_prompt)\n",
    "recommend_music_using_knn(df_with_lyrics, user_text_embedding, all_lyrics_embeddings)"
   ]
  },
  {
   "cell_type": "code",
   "execution_count": null,
   "metadata": {},
   "outputs": [],
   "source": []
  }
 ],
 "metadata": {
  "colab": {
   "provenance": []
  },
  "kernelspec": {
   "display_name": "Python [conda env:base] *",
   "language": "python",
   "name": "conda-base-py"
  },
  "language_info": {
   "codemirror_mode": {
    "name": "ipython",
    "version": 3
   },
   "file_extension": ".py",
   "mimetype": "text/x-python",
   "name": "python",
   "nbconvert_exporter": "python",
   "pygments_lexer": "ipython3",
   "version": "3.12.7"
  }
 },
 "nbformat": 4,
 "nbformat_minor": 4
}
